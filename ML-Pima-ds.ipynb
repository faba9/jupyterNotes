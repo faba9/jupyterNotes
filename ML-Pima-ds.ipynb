{
 "cells": [
  {
   "cell_type": "markdown",
   "metadata": {},
   "source": [
    "# Machine Learning\n"
   ]
  },
  {
   "cell_type": "markdown",
   "metadata": {},
   "source": [
    "#### ماذا نقصد بالمشين ليرننق؟\n",
    "#### تعليم الاله حتى تقوم بالمهام بنفسها  \n",
    "#### :3 اشياء مهمه\n",
    "#### Eالتجربه\n",
    "#### Tالمهام\n",
    "####  Pمقياس الاداء\n",
    "\n",
    "#### نظام الكومبيوتر يتعلم من التجربه بالنسبه للمهام ومقياس الاداء\n",
    "#### اذا كان اداءه في المهام يتحسن باستخدام مقياس الاداء مع التجربه\n"
   ]
  },
  {
   "cell_type": "markdown",
   "metadata": {},
   "source": [
    "#### Types of learning:\n",
    "#### 1 - Supervised\n",
    "#### نقدم للكمبيوتر امثله لمدخلات مثل تكون صور كثيره لقطط و ايش نوعها انها قطط\n",
    "#### يكون للكمبيوتر مدخلات صور لقطط ومعرفه ان هذه الصور هي لقطط\n",
    "#### 2 - Usupervised\n",
    "####  مافي اشراف\n",
    "#### نقدم للكمبيوتر مجموعة كبيرة من الصور نتركه بنفسه يقرر ماهي صور القطط وماهي صور غير القطط\n",
    "#### يشوف كامل الصور ويقسمها لمجموعات 5 او 6 مجموعات على حسب\n",
    "#### 3- Reinforced"
   ]
  },
  {
   "cell_type": "markdown",
   "metadata": {},
   "source": [
    "##### Types of supervised learning:\n",
    "#### 1 - classification : prediction of discrete labels\n",
    "####  توقع لتمسيات او انواع للامثله مثل تشخيص مرض ورم خبيث او حميد , مريض او غير مريض , كلها تصنيف  يسمى تصنيف ثنائي اما مع هذا الصنف او مع هذا الصنف\n",
    "#### 2 - Regression : prediction of continues lables\n",
    "#### التنبؤ بالقيم المستمره , يقوم هذا النوع برسم فت او خط يمثل متوسط القيمه بين قيمتين مثل المتوسط بين مساحة الغرفه واسعار البيت التي ابتيعت خلال السنوات الماضيه يعني مثلا لو توقعنا بيت يكون مساحته 70 سوف تقوم الخوارزميه بالتنبؤ بسعر البيت \n",
    "#### سوف تكون اغلب البيانات حول ال fit line \n",
    "#### باقي البيانات التي تكون بعيده عنه نسميها outlier حالات شاذة\n",
    "\n",
    "\n"
   ]
  },
  {
   "cell_type": "markdown",
   "metadata": {},
   "source": [
    "#### اول الخطوات الي تساعدنا في بنا نموذج\n",
    "#### 1- قاعدة البيانات : kaggel.com\n",
    "#### لابد قواعد البيانات تكون رسمية\n",
    "#### شي اخر مهم عند التعامل مع البيانات هي نوعية البيانات بعضها تكون صور فيديو نصوص ارقام وغيرها\n",
    "#### شي اخر مهم هو اني اقوم بعمل فلتره للبيانات لو كان عندي كلومونس ما احتاجها في العمليه راح اقوم بحذفها\n",
    "\n",
    "\n",
    "\n"
   ]
  },
  {
   "cell_type": "markdown",
   "metadata": {},
   "source": [
    "### Pima dataset using radom forest"
   ]
  },
  {
   "cell_type": "code",
   "execution_count": 1,
   "metadata": {},
   "outputs": [],
   "source": [
    "# import libraries that we need\n",
    "import pandas as pd\n",
    "import numpy as np"
   ]
  },
  {
   "cell_type": "code",
   "execution_count": 2,
   "metadata": {},
   "outputs": [
    {
     "data": {
      "text/html": [
       "<div>\n",
       "<style scoped>\n",
       "    .dataframe tbody tr th:only-of-type {\n",
       "        vertical-align: middle;\n",
       "    }\n",
       "\n",
       "    .dataframe tbody tr th {\n",
       "        vertical-align: top;\n",
       "    }\n",
       "\n",
       "    .dataframe thead th {\n",
       "        text-align: right;\n",
       "    }\n",
       "</style>\n",
       "<table border=\"1\" class=\"dataframe\">\n",
       "  <thead>\n",
       "    <tr style=\"text-align: right;\">\n",
       "      <th></th>\n",
       "      <th>Pregnancies</th>\n",
       "      <th>Glucose</th>\n",
       "      <th>BloodPressure</th>\n",
       "      <th>SkinThickness</th>\n",
       "      <th>Insulin</th>\n",
       "      <th>BMI</th>\n",
       "      <th>DiabetesPedigreeFunction</th>\n",
       "      <th>Age</th>\n",
       "      <th>Outcome</th>\n",
       "    </tr>\n",
       "  </thead>\n",
       "  <tbody>\n",
       "    <tr>\n",
       "      <th>0</th>\n",
       "      <td>6</td>\n",
       "      <td>148</td>\n",
       "      <td>72</td>\n",
       "      <td>35</td>\n",
       "      <td>0</td>\n",
       "      <td>33.6</td>\n",
       "      <td>0.627</td>\n",
       "      <td>50</td>\n",
       "      <td>1</td>\n",
       "    </tr>\n",
       "    <tr>\n",
       "      <th>1</th>\n",
       "      <td>1</td>\n",
       "      <td>85</td>\n",
       "      <td>66</td>\n",
       "      <td>29</td>\n",
       "      <td>0</td>\n",
       "      <td>26.6</td>\n",
       "      <td>0.351</td>\n",
       "      <td>31</td>\n",
       "      <td>0</td>\n",
       "    </tr>\n",
       "    <tr>\n",
       "      <th>2</th>\n",
       "      <td>8</td>\n",
       "      <td>183</td>\n",
       "      <td>64</td>\n",
       "      <td>0</td>\n",
       "      <td>0</td>\n",
       "      <td>23.3</td>\n",
       "      <td>0.672</td>\n",
       "      <td>32</td>\n",
       "      <td>1</td>\n",
       "    </tr>\n",
       "    <tr>\n",
       "      <th>3</th>\n",
       "      <td>1</td>\n",
       "      <td>89</td>\n",
       "      <td>66</td>\n",
       "      <td>23</td>\n",
       "      <td>94</td>\n",
       "      <td>28.1</td>\n",
       "      <td>0.167</td>\n",
       "      <td>21</td>\n",
       "      <td>0</td>\n",
       "    </tr>\n",
       "  </tbody>\n",
       "</table>\n",
       "</div>"
      ],
      "text/plain": [
       "   Pregnancies  Glucose  BloodPressure  SkinThickness  Insulin   BMI  \\\n",
       "0            6      148             72             35        0  33.6   \n",
       "1            1       85             66             29        0  26.6   \n",
       "2            8      183             64              0        0  23.3   \n",
       "3            1       89             66             23       94  28.1   \n",
       "\n",
       "   DiabetesPedigreeFunction  Age  Outcome  \n",
       "0                     0.627   50        1  \n",
       "1                     0.351   31        0  \n",
       "2                     0.672   32        1  \n",
       "3                     0.167   21        0  "
      ]
     },
     "execution_count": 2,
     "metadata": {},
     "output_type": "execute_result"
    }
   ],
   "source": [
    "df = pd.read_csv('pima_ds.csv')\n",
    "df.head(4)"
   ]
  },
  {
   "cell_type": "code",
   "execution_count": 4,
   "metadata": {},
   "outputs": [
    {
     "data": {
      "text/plain": [
       "Index(['Pregnancies', 'Glucose', 'BloodPressure', 'SkinThickness', 'Insulin',\n",
       "       'BMI', 'DiabetesPedigreeFunction', 'Age', 'Outcome'],\n",
       "      dtype='object')"
      ]
     },
     "execution_count": 4,
     "metadata": {},
     "output_type": "execute_result"
    }
   ],
   "source": [
    "df.columns"
   ]
  },
  {
   "cell_type": "code",
   "execution_count": 5,
   "metadata": {},
   "outputs": [],
   "source": [
    "columns =['Pregnancies', 'Glucose', 'BloodPressure', 'SkinThickness',\n",
    "          'Insulin','BMI', 'DiabetesPedigreeFunction', 'Age']\n",
    "# outcome  هو عباره عن ليبلز فذلك قمنا بفصله عن باقي الكولومنس\n",
    "# الان نحن نريد فقط قيم الكولمنس من غير اسم الكولومنس\n",
    "labels = df['Outcome'].values\n",
    "features = df[list(columns)].values"
   ]
  },
  {
   "cell_type": "code",
   "execution_count": 3,
   "metadata": {},
   "outputs": [
    {
     "ename": "NameError",
     "evalue": "name 'labels' is not defined",
     "output_type": "error",
     "traceback": [
      "\u001b[1;31m---------------------------------------------------------------------------\u001b[0m",
      "\u001b[1;31mNameError\u001b[0m                                 Traceback (most recent call last)",
      "\u001b[1;32m<ipython-input-3-0a1df294b701>\u001b[0m in \u001b[0;36m<module>\u001b[1;34m\u001b[0m\n\u001b[1;32m----> 1\u001b[1;33m \u001b[0mlabels\u001b[0m\u001b[1;33m\u001b[0m\u001b[1;33m\u001b[0m\u001b[0m\n\u001b[0m",
      "\u001b[1;31mNameError\u001b[0m: name 'labels' is not defined"
     ]
    }
   ],
   "source": [
    "labels"
   ]
  },
  {
   "cell_type": "code",
   "execution_count": 8,
   "metadata": {},
   "outputs": [
    {
     "data": {
      "text/plain": [
       "array([[  6.   , 148.   ,  72.   , ...,  33.6  ,   0.627,  50.   ],\n",
       "       [  1.   ,  85.   ,  66.   , ...,  26.6  ,   0.351,  31.   ],\n",
       "       [  8.   , 183.   ,  64.   , ...,  23.3  ,   0.672,  32.   ],\n",
       "       ...,\n",
       "       [  5.   , 121.   ,  72.   , ...,  26.2  ,   0.245,  30.   ],\n",
       "       [  1.   , 126.   ,  60.   , ...,  30.1  ,   0.349,  47.   ],\n",
       "       [  1.   ,  93.   ,  70.   , ...,  30.4  ,   0.315,  23.   ]])"
      ]
     },
     "execution_count": 8,
     "metadata": {},
     "output_type": "execute_result"
    }
   ],
   "source": [
    "features"
   ]
  },
  {
   "cell_type": "code",
   "execution_count": 6,
   "metadata": {
    "scrolled": true
   },
   "outputs": [
    {
     "data": {
      "text/plain": [
       "RandomForestClassifier(bootstrap=True, ccp_alpha=0.0, class_weight=None,\n",
       "                       criterion='gini', max_depth=None, max_features='auto',\n",
       "                       max_leaf_nodes=None, max_samples=None,\n",
       "                       min_impurity_decrease=0.0, min_impurity_split=None,\n",
       "                       min_samples_leaf=1, min_samples_split=2,\n",
       "                       min_weight_fraction_leaf=0.0, n_estimators=1,\n",
       "                       n_jobs=None, oob_score=False, random_state=None,\n",
       "                       verbose=0, warm_start=False)"
      ]
     },
     "execution_count": 6,
     "metadata": {},
     "output_type": "execute_result"
    }
   ],
   "source": [
    "# نستدعي المكتبان الي راح نحتاجها\n",
    "# مكتبه موديل سلكشن دايما راح نستخدمها في عملية السلبلت\n",
    "from sklearn.ensemble import RandomForestClassifier\n",
    "from sklearn.model_selection import train_test_split\n",
    "# الان كل من ليبلز و فيتشرز راح ينقسم لترين وتست\n",
    "x_train, x_test, y_train, y_test = train_test_split(features, labels,\n",
    "                                                    test_size=0.30)\n",
    "# راندوم فورست تقوم اعتماد على شجره اسئله اجابتها نعم او لا\n",
    "# الباراميتر الي مررناه هو عدد هذه الاسئله او الشجره\n",
    "clf = RandomForestClassifier(n_estimators=1)\n",
    "# الان ندرب المودل \n",
    "clf.fit(x_train, y_train)"
   ]
  },
  {
   "cell_type": "code",
   "execution_count": 15,
   "metadata": {
    "scrolled": true
   },
   "outputs": [
    {
     "data": {
      "text/plain": [
       "array([0], dtype=int64)"
      ]
     },
     "execution_count": 15,
     "metadata": {},
     "output_type": "execute_result"
    }
   ],
   "source": [
    "clf.predict([[6, 93, 50, 30, 64, 28.7 ,0.356, 23]])"
   ]
  },
  {
   "cell_type": "code",
   "execution_count": 14,
   "metadata": {},
   "outputs": [
    {
     "data": {
      "text/plain": [
       "0"
      ]
     },
     "execution_count": 14,
     "metadata": {},
     "output_type": "execute_result"
    }
   ],
   "source": [
    "y_test[1]"
   ]
  },
  {
   "cell_type": "code",
   "execution_count": 10,
   "metadata": {},
   "outputs": [
    {
     "name": "stdout",
     "output_type": "stream",
     "text": [
      "The accuracy of this model is 87.15%\n"
     ]
    }
   ],
   "source": [
    "# لمعرفة دقة المودل\n",
    "accuracy = clf.score(x_train, y_train)\n",
    "v = format(accuracy * 100, '.2f')\n",
    "print('The accuracy of this model is {}%'.format(v))"
   ]
  },
  {
   "cell_type": "code",
   "execution_count": 11,
   "metadata": {},
   "outputs": [
    {
     "name": "stdout",
     "output_type": "stream",
     "text": [
      "The accuracy of this model is 67.53%\n"
     ]
    }
   ],
   "source": [
    "# لمعرفة دقة المودل بالنسبه للعينه الي ماتدرب عليها وهي عينة القياس\n",
    "accuracy = clf.score(x_test, y_test)\n",
    "v = format(accuracy * 100, '.2f')\n",
    "print('The accuracy of this model is {}%'.format(v))"
   ]
  },
  {
   "cell_type": "markdown",
   "metadata": {},
   "source": [
    "#### ماهو ال  classification report\n",
    "#### يقدم لنا عده معلومات عن المودل\n",
    "####  precision  (الاحكام )الدقة لكل كلاس\n",
    "#### recall حساسية المودل بالنسبه للعينات\n",
    "#### يعطينا منظور اعمق عن دقة المودل\n",
    "#### support عدد العينات التي تنتمي لكل كلاس\n",
    "\n",
    "\n",
    "\n"
   ]
  },
  {
   "cell_type": "code",
   "execution_count": 12,
   "metadata": {},
   "outputs": [
    {
     "name": "stdout",
     "output_type": "stream",
     "text": [
      "Training classification_report\n",
      "               precision    recall  f1-score   support\n",
      "\n",
      "           0       0.89      0.92      0.90       357\n",
      "           1       0.82      0.78      0.80       180\n",
      "\n",
      "    accuracy                           0.87       537\n",
      "   macro avg       0.86      0.85      0.85       537\n",
      "weighted avg       0.87      0.87      0.87       537\n",
      "\n"
     ]
    }
   ],
   "source": [
    "# تقيم اداء نموذج بيما\n",
    "from sklearn.metrics import classification_report\n",
    "\n",
    "ypredict = clf.predict(x_train)\n",
    "print('Training classification_report\\n',\n",
    "      classification_report(y_train, ypredict))"
   ]
  },
  {
   "cell_type": "code",
   "execution_count": 13,
   "metadata": {},
   "outputs": [
    {
     "name": "stdout",
     "output_type": "stream",
     "text": [
      "confusion_matrix of training\n",
      " [[327  30]\n",
      " [ 39 141]]\n"
     ]
    }
   ],
   "source": [
    "from sklearn.metrics import confusion_matrix\n",
    "\n",
    "print('confusion_matrix of training\\n', confusion_matrix(y_train, ypredict))\n",
    "\n",
    "# [true positive, false negative]\n",
    "# [false positive, true negative]"
   ]
  },
  {
   "cell_type": "code",
   "execution_count": 14,
   "metadata": {},
   "outputs": [
    {
     "name": "stdout",
     "output_type": "stream",
     "text": [
      "Testing classification_report\n",
      "               precision    recall  f1-score   support\n",
      "\n",
      "           0       0.71      0.80      0.75       143\n",
      "           1       0.59      0.48      0.53        88\n",
      "\n",
      "    accuracy                           0.68       231\n",
      "   macro avg       0.65      0.64      0.64       231\n",
      "weighted avg       0.67      0.68      0.67       231\n",
      "\n",
      "confusion_matrix of testing\n",
      " [[114  29]\n",
      " [ 46  42]]\n"
     ]
    }
   ],
   "source": [
    "# بالنسبه لعينه القياس\n",
    "ypredict = clf.predict(x_test)\n",
    "print('Testing classification_report\\n',\n",
    "      classification_report(y_test, ypredict))\n",
    "\n",
    "print('confusion_matrix of testing\\n', confusion_matrix(y_test, ypredict))\n"
   ]
  },
  {
   "cell_type": "markdown",
   "metadata": {},
   "source": [
    "#### طرق عامه لتحسين اداء النموذج\n",
    "#### 1 add more data زياده حجم العينه اذا مثلا كان حجم العينات في الكلاس اي عشرين وفي الكلاس بي واحد فلابد من زياده حجم العينه بالنسبه للكلاس بي لمساعده الكلاس فاير في تحسين النتائج\n",
    "#### 2 معالجه القيم الشاذه outliers لابد من فحص البيانات للكشف ما اذا كان هناك قيم مفقوده او قيم شاذه\n",
    "#### 3 هندسه الخواص features engineering ممكن نستخدم خوارزميات اخرى لنقوم بهدنسه هذه الخواص لتعطينا نتائج افضل وتختلف الخواص باختلاف البيانات مثلا بيانات صور تختلف عن بيانات الفديو وتختلف عن بيانات الصوت \n",
    "#### 4 features selection اصطفاء الخواص لمعرفة ماهي الخواص التي تؤثر كثيرا في الكلاسفيكيشين لنقوم باستخدامها بدلا من استخدام كافة الخواص\n",
    "#### نستطيع استخدام الخوارزميات الجينية للقيام بهذا العمل\n",
    "#### 5 تعدد الخوارزميات اي نجرب اكثر من خوارزمية ربما احدى الخوارزميات تحقق لنا النتائج امثلة على الخوارزميات المختلفه التي يمكن استخدامها svm or random forest elc....\n",
    "#### 6 ضبط المعاملات او ال parameters  لهذه الخوارزميات\n",
    "#### زي مثلا عندما نقوم بتحديد عدد الاسئله في ال random forest باستخدام الباراميتر\n",
    "#### 7 التعليم الجمعي وهنا اننا نقوم باستخدام اكثر من كلاسفاير ويقومون بالتصويت كل كلاسفيار يقوم بالتصويت عل عينه معينه انها تنتمي لكلاس معين وبعدها ناخذ بالاغلبيه او بالمتوسط الحسابي\n",
    "#### 8 المصادقه cross validation  نقوم بعمل تريننق وتستنتق بطريقه مختلفه\n",
    "#### 9 تعدد الخوارزميات مثلا بدلا من ان نستخدم فقط svm  نستخدم مثلا ann او نستخدم random forest  ربما نوع من الخوارزميات يحقق لنا نتيجه افضل \n",
    "\n",
    "\n",
    "\n"
   ]
  },
  {
   "cell_type": "markdown",
   "metadata": {},
   "source": [
    "### محاولات لتحسين اداء النموذج"
   ]
  },
  {
   "cell_type": "code",
   "execution_count": 15,
   "metadata": {},
   "outputs": [
    {
     "data": {
      "text/html": [
       "<div>\n",
       "<style scoped>\n",
       "    .dataframe tbody tr th:only-of-type {\n",
       "        vertical-align: middle;\n",
       "    }\n",
       "\n",
       "    .dataframe tbody tr th {\n",
       "        vertical-align: top;\n",
       "    }\n",
       "\n",
       "    .dataframe thead th {\n",
       "        text-align: right;\n",
       "    }\n",
       "</style>\n",
       "<table border=\"1\" class=\"dataframe\">\n",
       "  <thead>\n",
       "    <tr style=\"text-align: right;\">\n",
       "      <th></th>\n",
       "      <th>Pregnancies</th>\n",
       "      <th>Glucose</th>\n",
       "      <th>BloodPressure</th>\n",
       "      <th>SkinThickness</th>\n",
       "      <th>Insulin</th>\n",
       "      <th>BMI</th>\n",
       "      <th>DiabetesPedigreeFunction</th>\n",
       "      <th>Age</th>\n",
       "      <th>Outcome</th>\n",
       "    </tr>\n",
       "  </thead>\n",
       "  <tbody>\n",
       "    <tr>\n",
       "      <th>0</th>\n",
       "      <td>6</td>\n",
       "      <td>148</td>\n",
       "      <td>72</td>\n",
       "      <td>35</td>\n",
       "      <td>0</td>\n",
       "      <td>33.6</td>\n",
       "      <td>0.627</td>\n",
       "      <td>50</td>\n",
       "      <td>1</td>\n",
       "    </tr>\n",
       "    <tr>\n",
       "      <th>1</th>\n",
       "      <td>1</td>\n",
       "      <td>85</td>\n",
       "      <td>66</td>\n",
       "      <td>29</td>\n",
       "      <td>0</td>\n",
       "      <td>26.6</td>\n",
       "      <td>0.351</td>\n",
       "      <td>31</td>\n",
       "      <td>0</td>\n",
       "    </tr>\n",
       "    <tr>\n",
       "      <th>2</th>\n",
       "      <td>8</td>\n",
       "      <td>183</td>\n",
       "      <td>64</td>\n",
       "      <td>0</td>\n",
       "      <td>0</td>\n",
       "      <td>23.3</td>\n",
       "      <td>0.672</td>\n",
       "      <td>32</td>\n",
       "      <td>1</td>\n",
       "    </tr>\n",
       "    <tr>\n",
       "      <th>3</th>\n",
       "      <td>1</td>\n",
       "      <td>89</td>\n",
       "      <td>66</td>\n",
       "      <td>23</td>\n",
       "      <td>94</td>\n",
       "      <td>28.1</td>\n",
       "      <td>0.167</td>\n",
       "      <td>21</td>\n",
       "      <td>0</td>\n",
       "    </tr>\n",
       "    <tr>\n",
       "      <th>4</th>\n",
       "      <td>0</td>\n",
       "      <td>137</td>\n",
       "      <td>40</td>\n",
       "      <td>35</td>\n",
       "      <td>168</td>\n",
       "      <td>43.1</td>\n",
       "      <td>2.288</td>\n",
       "      <td>33</td>\n",
       "      <td>1</td>\n",
       "    </tr>\n",
       "    <tr>\n",
       "      <th>5</th>\n",
       "      <td>5</td>\n",
       "      <td>116</td>\n",
       "      <td>74</td>\n",
       "      <td>0</td>\n",
       "      <td>0</td>\n",
       "      <td>25.6</td>\n",
       "      <td>0.201</td>\n",
       "      <td>30</td>\n",
       "      <td>0</td>\n",
       "    </tr>\n",
       "    <tr>\n",
       "      <th>6</th>\n",
       "      <td>3</td>\n",
       "      <td>78</td>\n",
       "      <td>50</td>\n",
       "      <td>32</td>\n",
       "      <td>88</td>\n",
       "      <td>31.0</td>\n",
       "      <td>0.248</td>\n",
       "      <td>26</td>\n",
       "      <td>1</td>\n",
       "    </tr>\n",
       "    <tr>\n",
       "      <th>7</th>\n",
       "      <td>10</td>\n",
       "      <td>115</td>\n",
       "      <td>0</td>\n",
       "      <td>0</td>\n",
       "      <td>0</td>\n",
       "      <td>35.3</td>\n",
       "      <td>0.134</td>\n",
       "      <td>29</td>\n",
       "      <td>0</td>\n",
       "    </tr>\n",
       "    <tr>\n",
       "      <th>8</th>\n",
       "      <td>2</td>\n",
       "      <td>197</td>\n",
       "      <td>70</td>\n",
       "      <td>45</td>\n",
       "      <td>543</td>\n",
       "      <td>30.5</td>\n",
       "      <td>0.158</td>\n",
       "      <td>53</td>\n",
       "      <td>1</td>\n",
       "    </tr>\n",
       "    <tr>\n",
       "      <th>9</th>\n",
       "      <td>8</td>\n",
       "      <td>125</td>\n",
       "      <td>96</td>\n",
       "      <td>0</td>\n",
       "      <td>0</td>\n",
       "      <td>0.0</td>\n",
       "      <td>0.232</td>\n",
       "      <td>54</td>\n",
       "      <td>1</td>\n",
       "    </tr>\n",
       "    <tr>\n",
       "      <th>10</th>\n",
       "      <td>4</td>\n",
       "      <td>110</td>\n",
       "      <td>92</td>\n",
       "      <td>0</td>\n",
       "      <td>0</td>\n",
       "      <td>37.6</td>\n",
       "      <td>0.191</td>\n",
       "      <td>30</td>\n",
       "      <td>0</td>\n",
       "    </tr>\n",
       "    <tr>\n",
       "      <th>11</th>\n",
       "      <td>10</td>\n",
       "      <td>168</td>\n",
       "      <td>74</td>\n",
       "      <td>0</td>\n",
       "      <td>0</td>\n",
       "      <td>38.0</td>\n",
       "      <td>0.537</td>\n",
       "      <td>34</td>\n",
       "      <td>1</td>\n",
       "    </tr>\n",
       "    <tr>\n",
       "      <th>12</th>\n",
       "      <td>10</td>\n",
       "      <td>139</td>\n",
       "      <td>80</td>\n",
       "      <td>0</td>\n",
       "      <td>0</td>\n",
       "      <td>27.1</td>\n",
       "      <td>1.441</td>\n",
       "      <td>57</td>\n",
       "      <td>0</td>\n",
       "    </tr>\n",
       "    <tr>\n",
       "      <th>13</th>\n",
       "      <td>1</td>\n",
       "      <td>189</td>\n",
       "      <td>60</td>\n",
       "      <td>23</td>\n",
       "      <td>846</td>\n",
       "      <td>30.1</td>\n",
       "      <td>0.398</td>\n",
       "      <td>59</td>\n",
       "      <td>1</td>\n",
       "    </tr>\n",
       "    <tr>\n",
       "      <th>14</th>\n",
       "      <td>5</td>\n",
       "      <td>166</td>\n",
       "      <td>72</td>\n",
       "      <td>19</td>\n",
       "      <td>175</td>\n",
       "      <td>25.8</td>\n",
       "      <td>0.587</td>\n",
       "      <td>51</td>\n",
       "      <td>1</td>\n",
       "    </tr>\n",
       "    <tr>\n",
       "      <th>15</th>\n",
       "      <td>7</td>\n",
       "      <td>100</td>\n",
       "      <td>0</td>\n",
       "      <td>0</td>\n",
       "      <td>0</td>\n",
       "      <td>30.0</td>\n",
       "      <td>0.484</td>\n",
       "      <td>32</td>\n",
       "      <td>1</td>\n",
       "    </tr>\n",
       "    <tr>\n",
       "      <th>16</th>\n",
       "      <td>0</td>\n",
       "      <td>118</td>\n",
       "      <td>84</td>\n",
       "      <td>47</td>\n",
       "      <td>230</td>\n",
       "      <td>45.8</td>\n",
       "      <td>0.551</td>\n",
       "      <td>31</td>\n",
       "      <td>1</td>\n",
       "    </tr>\n",
       "    <tr>\n",
       "      <th>17</th>\n",
       "      <td>7</td>\n",
       "      <td>107</td>\n",
       "      <td>74</td>\n",
       "      <td>0</td>\n",
       "      <td>0</td>\n",
       "      <td>29.6</td>\n",
       "      <td>0.254</td>\n",
       "      <td>31</td>\n",
       "      <td>1</td>\n",
       "    </tr>\n",
       "    <tr>\n",
       "      <th>18</th>\n",
       "      <td>1</td>\n",
       "      <td>103</td>\n",
       "      <td>30</td>\n",
       "      <td>38</td>\n",
       "      <td>83</td>\n",
       "      <td>43.3</td>\n",
       "      <td>0.183</td>\n",
       "      <td>33</td>\n",
       "      <td>0</td>\n",
       "    </tr>\n",
       "    <tr>\n",
       "      <th>19</th>\n",
       "      <td>1</td>\n",
       "      <td>115</td>\n",
       "      <td>70</td>\n",
       "      <td>30</td>\n",
       "      <td>96</td>\n",
       "      <td>34.6</td>\n",
       "      <td>0.529</td>\n",
       "      <td>32</td>\n",
       "      <td>1</td>\n",
       "    </tr>\n",
       "  </tbody>\n",
       "</table>\n",
       "</div>"
      ],
      "text/plain": [
       "    Pregnancies  Glucose  BloodPressure  SkinThickness  Insulin   BMI  \\\n",
       "0             6      148             72             35        0  33.6   \n",
       "1             1       85             66             29        0  26.6   \n",
       "2             8      183             64              0        0  23.3   \n",
       "3             1       89             66             23       94  28.1   \n",
       "4             0      137             40             35      168  43.1   \n",
       "5             5      116             74              0        0  25.6   \n",
       "6             3       78             50             32       88  31.0   \n",
       "7            10      115              0              0        0  35.3   \n",
       "8             2      197             70             45      543  30.5   \n",
       "9             8      125             96              0        0   0.0   \n",
       "10            4      110             92              0        0  37.6   \n",
       "11           10      168             74              0        0  38.0   \n",
       "12           10      139             80              0        0  27.1   \n",
       "13            1      189             60             23      846  30.1   \n",
       "14            5      166             72             19      175  25.8   \n",
       "15            7      100              0              0        0  30.0   \n",
       "16            0      118             84             47      230  45.8   \n",
       "17            7      107             74              0        0  29.6   \n",
       "18            1      103             30             38       83  43.3   \n",
       "19            1      115             70             30       96  34.6   \n",
       "\n",
       "    DiabetesPedigreeFunction  Age  Outcome  \n",
       "0                      0.627   50        1  \n",
       "1                      0.351   31        0  \n",
       "2                      0.672   32        1  \n",
       "3                      0.167   21        0  \n",
       "4                      2.288   33        1  \n",
       "5                      0.201   30        0  \n",
       "6                      0.248   26        1  \n",
       "7                      0.134   29        0  \n",
       "8                      0.158   53        1  \n",
       "9                      0.232   54        1  \n",
       "10                     0.191   30        0  \n",
       "11                     0.537   34        1  \n",
       "12                     1.441   57        0  \n",
       "13                     0.398   59        1  \n",
       "14                     0.587   51        1  \n",
       "15                     0.484   32        1  \n",
       "16                     0.551   31        1  \n",
       "17                     0.254   31        1  \n",
       "18                     0.183   33        0  \n",
       "19                     0.529   32        1  "
      ]
     },
     "execution_count": 15,
     "metadata": {},
     "output_type": "execute_result"
    }
   ],
   "source": [
    "df.head(20)"
   ]
  },
  {
   "cell_type": "code",
   "execution_count": 16,
   "metadata": {},
   "outputs": [
    {
     "name": "stdout",
     "output_type": "stream",
     "text": [
      "<class 'pandas.core.frame.DataFrame'>\n",
      "RangeIndex: 768 entries, 0 to 767\n",
      "Data columns (total 9 columns):\n",
      "Pregnancies                 768 non-null int64\n",
      "Glucose                     768 non-null int64\n",
      "BloodPressure               768 non-null int64\n",
      "SkinThickness               768 non-null int64\n",
      "Insulin                     768 non-null int64\n",
      "BMI                         768 non-null float64\n",
      "DiabetesPedigreeFunction    768 non-null float64\n",
      "Age                         768 non-null int64\n",
      "Outcome                     768 non-null int64\n",
      "dtypes: float64(2), int64(7)\n",
      "memory usage: 54.1 KB\n"
     ]
    }
   ],
   "source": [
    "# نستخدم بنداز انفو حت تعطينا معلومات اكثر ونستكشف اكثر عن الداتا فريم الي عندنا\n",
    "df.info()\n",
    "# non-null تعني لايوجد بيانات مفقوده"
   ]
  },
  {
   "cell_type": "markdown",
   "metadata": {},
   "source": [
    "#### هنا نلاحظ انو العينات في الكلاس زيرو تساوي 500 والعينات في الكلاس ون تساوي 268 وهناك فرق شاسع في كمية العينات لكل كلاس فهناك طريقه من احدى الطرق الي تكلمنا عنها لتساعدنا في تحسين اداء النموذج وهي زياده حجم العينه "
   ]
  },
  {
   "cell_type": "code",
   "execution_count": 27,
   "metadata": {
    "scrolled": false
   },
   "outputs": [
    {
     "data": {
      "text/plain": [
       "<matplotlib.axes._subplots.AxesSubplot at 0xf5b7278>"
      ]
     },
     "execution_count": 27,
     "metadata": {},
     "output_type": "execute_result"
    },
    {
     "data": {
      "image/png": "[encoded data removed]",
      "text/plain": [
       "<Figure size 432x288 with 1 Axes>"
      ]
     },
     "metadata": {
      "needs_background": "light"
     },
     "output_type": "display_data"
    }
   ],
   "source": [
    "# ممكن نستخدم مكتبه سي بورن حتى تساعدنا لفهم الداتا \n",
    "from seaborn import countplot\n",
    "# نشوف بالنسبه للهستوقرام كيف تتقسم البيانات\n",
    "# 0 ـعني غير مصاب \n",
    "# 1 تعني مصاب\n",
    "countplot(x='Outcome', data=df, palette='hls')"
   ]
  },
  {
   "cell_type": "code",
   "execution_count": 18,
   "metadata": {},
   "outputs": [
    {
     "name": "stdout",
     "output_type": "stream",
     "text": [
      "class one: 268\n",
      "class zero 500\n"
     ]
    }
   ],
   "source": [
    "zero = 0\n",
    "one = 0\n",
    "for i in list(df['Outcome']):\n",
    "    if i == 0:\n",
    "        zero += 1\n",
    "    if i == 1:\n",
    "        one += 1\n",
    "print(f'class one: {one}\\nclass zero {zero}')"
   ]
  },
  {
   "cell_type": "markdown",
   "metadata": {},
   "source": [
    "#### الطريقه الثانيه الي ممكن نستخدمها لتحسين اداء النموذج هي الكشف عن البيانات المفقوده ولكن في هذه البيانات لم نجد بيانات مفقوده"
   ]
  },
  {
   "cell_type": "code",
   "execution_count": 19,
   "metadata": {},
   "outputs": [
    {
     "data": {
      "text/plain": [
       "<matplotlib.axes._subplots.AxesSubplot at 0xf4d3780>"
      ]
     },
     "execution_count": 19,
     "metadata": {},
     "output_type": "execute_result"
    },
    {
     "data": {
      "image/png": "[encoded data removed]",
      "text/plain": [
       "<Figure size 432x288 with 1 Axes>"
      ]
     },
     "metadata": {
      "needs_background": "light"
     },
     "output_type": "display_data"
    }
   ],
   "source": [
    "# تعطينا قرائه شامله عن عدد الحملات وماهي اكثر مرات حمل متكرره\n",
    "# هنا نلاحظ ان مره الحمل 1 اكثر مره متكرره و مره الحمل 17 هي اقل مره متكرره\n",
    "countplot(x='Pregnancies', data=df, palette='hls')"
   ]
  },
  {
   "cell_type": "markdown",
   "metadata": {},
   "source": [
    "#### كيف نتعامل مع القيم الشاذه؟\n",
    "#### ليس بالضروره ان نقوم بحذف السجلات التي تحتوي عل القيم الشاذة لانه توجد طرق اخرى للتعامل معها\n",
    "#### data normalization / standarization\n",
    "#### في هذه الطريقه نقوم باستخدام اثنين او ثلاثه من هذه القيم الاحصائيه\n",
    "#### mean , standard deviation, variance \n",
    "#### نقوم باستخدامهم بطريقه معينه لكي نقوم بتدريج او تقييم هذه البيانات\n",
    "#### توجد طريقتين في مكتبه sci-kit learn \n",
    "#### standard scaler في هذه الطريقه نقوم ونبعد المين\n",
    "#### min-max scaler  نقوم بتدريج الخواص رياضيا مابين 0 الى 1 القيمه الاقل صفر القيمه القصوى 1 فهي تقوم بحصر القيم بين فترتين\n",
    "\n",
    "\n",
    "\n",
    "\n"
   ]
  },
  {
   "cell_type": "markdown",
   "metadata": {},
   "source": [
    "### نلاحظ ان استخدام standard scaler لم يقم بتحسين اداء النموذج"
   ]
  },
  {
   "cell_type": "code",
   "execution_count": 20,
   "metadata": {
    "scrolled": true
   },
   "outputs": [
    {
     "name": "stdout",
     "output_type": "stream",
     "text": [
      " اداء النموذج في عينة التدريب بدقة  85.84729981378027\n",
      " اداء النموذج في عينة الفحص بدقة  70.995670995671\n",
      "\n",
      " Training classification report\n",
      "               precision    recall  f1-score   support\n",
      "\n",
      "           0       0.88      0.90      0.89       344\n",
      "           1       0.81      0.79      0.80       193\n",
      "\n",
      "    accuracy                           0.86       537\n",
      "   macro avg       0.85      0.84      0.85       537\n",
      "weighted avg       0.86      0.86      0.86       537\n",
      "\n",
      "\n",
      " Confusion matrix of training \n",
      " [[309  35]\n",
      " [ 41 152]]\n",
      "\n",
      " Testing classification report\n",
      "               precision    recall  f1-score   support\n",
      "\n",
      "           0       0.79      0.78      0.78       156\n",
      "           1       0.55      0.56      0.56        75\n",
      "\n",
      "    accuracy                           0.71       231\n",
      "   macro avg       0.67      0.67      0.67       231\n",
      "weighted avg       0.71      0.71      0.71       231\n",
      "\n",
      "\n",
      " Confusion matrix of Testing \n",
      " [[122  34]\n",
      " [ 33  42]]\n"
     ]
    }
   ],
   "source": [
    "columns = ['Pregnancies', 'Glucose', 'BloodPressure',\n",
    "           'SkinThickness', 'Insulin', 'BMI', 'DiabetesPedigreeFunction',\n",
    "           'Age']\n",
    "labels = df['Outcome'].values\n",
    "features = df[list(columns)].values\n",
    "\n",
    "x_train, x_test, y_train, y_test = train_test_split(features,\n",
    "                                                    labels, test_size=0.30)\n",
    "\n",
    "clf = RandomForestClassifier(n_estimators=1)\n",
    "clf = clf.fit(x_train, y_train)\n",
    "\n",
    "accuracy = clf.score(x_train, y_train)\n",
    "print(' اداء النموذج في عينة التدريب بدقة ', accuracy*100)\n",
    "\n",
    "accuracy = clf.score(x_test, y_test)\n",
    "print(' اداء النموذج في عينة الفحص بدقة ', accuracy*100)\n",
    "\n",
    "ypredict = clf.predict(x_train)\n",
    "print('\\n Training classification report\\n',\n",
    "      classification_report(y_train, ypredict))\n",
    "print(\"\\n Confusion matrix of training \\n\",\n",
    "      confusion_matrix(y_train, ypredict))\n",
    "\n",
    "ypredict = clf.predict(x_test)\n",
    "print('\\n Testing classification report\\n',\n",
    "      classification_report(y_test, ypredict))\n",
    "print(\"\\n Confusion matrix of Testing \\n\",\n",
    "      confusion_matrix(y_test, ypredict))"
   ]
  },
  {
   "cell_type": "code",
   "execution_count": 21,
   "metadata": {},
   "outputs": [],
   "source": [
    "from sklearn.preprocessing import StandardScaler\n",
    "scaler = StandardScaler()\n",
    "scaler.fit(x_train)\n",
    "x_train = scaler.transform(x_train)\n",
    "x_test = scaler.transform(x_test)"
   ]
  },
  {
   "cell_type": "code",
   "execution_count": 22,
   "metadata": {},
   "outputs": [
    {
     "name": "stdout",
     "output_type": "stream",
     "text": [
      " اداء النموذج في عينة التدريب بدقة  88.45437616387338\n",
      " اداء النموذج في عينة الفحص بدقة  71.42857142857143\n",
      "\n",
      " Training classification report\n",
      "               precision    recall  f1-score   support\n",
      "\n",
      "           0       0.92      0.89      0.91       344\n",
      "           1       0.82      0.87      0.84       193\n",
      "\n",
      "    accuracy                           0.88       537\n",
      "   macro avg       0.87      0.88      0.88       537\n",
      "weighted avg       0.89      0.88      0.89       537\n",
      "\n",
      "\n",
      " Confusion matrix of training \n",
      " [[307  37]\n",
      " [ 25 168]]\n",
      "\n",
      " Testing classification report\n",
      "               precision    recall  f1-score   support\n",
      "\n",
      "           0       0.82      0.74      0.78       156\n",
      "           1       0.55      0.67      0.60        75\n",
      "\n",
      "    accuracy                           0.71       231\n",
      "   macro avg       0.69      0.70      0.69       231\n",
      "weighted avg       0.73      0.71      0.72       231\n",
      "\n",
      "\n",
      " Confusion matrix of Testing \n",
      " [[115  41]\n",
      " [ 25  50]]\n"
     ]
    }
   ],
   "source": [
    "clf = RandomForestClassifier(n_estimators=1)\n",
    "clf = clf.fit(x_train, y_train)\n",
    "\n",
    "accuracy = clf.score(x_train, y_train)\n",
    "print(' اداء النموذج في عينة التدريب بدقة ', accuracy*100)\n",
    "\n",
    "accuracy = clf.score(x_test, y_test)\n",
    "print(' اداء النموذج في عينة الفحص بدقة ', accuracy*100)\n",
    "\n",
    "ypredict = clf.predict(x_train)\n",
    "print('\\n Training classification report\\n',\n",
    "      classification_report(y_train, ypredict))\n",
    "print(\"\\n Confusion matrix of training \\n\",\n",
    "      confusion_matrix(y_train, ypredict))\n",
    "\n",
    "ypredict = clf.predict(x_test)\n",
    "print('\\n Testing classification report\\n',\n",
    "      classification_report(y_test, ypredict))\n",
    "print(\"\\n Confusion matrix of Testing \\n\",\n",
    "      confusion_matrix(y_test, ypredict))"
   ]
  },
  {
   "cell_type": "markdown",
   "metadata": {},
   "source": [
    "### سوف نقوم بتجريب min max scaler"
   ]
  },
  {
   "cell_type": "code",
   "execution_count": 23,
   "metadata": {},
   "outputs": [
    {
     "name": "stdout",
     "output_type": "stream",
     "text": [
      " اداء النموذج في عينة التدريب بدقة  88.8268156424581\n",
      " اداء النموذج في عينة الفحص بدقة  67.09956709956711\n",
      "\n",
      " Training classification report\n",
      "               precision    recall  f1-score   support\n",
      "\n",
      "           0       0.91      0.92      0.92       354\n",
      "           1       0.84      0.83      0.84       183\n",
      "\n",
      "    accuracy                           0.89       537\n",
      "   macro avg       0.88      0.87      0.88       537\n",
      "weighted avg       0.89      0.89      0.89       537\n",
      "\n",
      "\n",
      " Confusion matrix of training \n",
      " [[325  29]\n",
      " [ 31 152]]\n",
      "\n",
      " Testing classification report\n",
      "               precision    recall  f1-score   support\n",
      "\n",
      "           0       0.74      0.75      0.74       146\n",
      "           1       0.55      0.54      0.55        85\n",
      "\n",
      "    accuracy                           0.67       231\n",
      "   macro avg       0.65      0.64      0.64       231\n",
      "weighted avg       0.67      0.67      0.67       231\n",
      "\n",
      "\n",
      " Confusion matrix of Testing \n",
      " [[109  37]\n",
      " [ 39  46]]\n"
     ]
    }
   ],
   "source": [
    "columns = ['Pregnancies', 'Glucose', 'BloodPressure',\n",
    "           'SkinThickness', 'Insulin', 'BMI', 'DiabetesPedigreeFunction',\n",
    "           'Age']\n",
    "labels = df['Outcome'].values\n",
    "features = df[list(columns)].values\n",
    "\n",
    "x_train, x_test, y_train, y_test = train_test_split(features,\n",
    "                                                    labels, test_size=0.30)\n",
    "\n",
    "\n",
    "clf = RandomForestClassifier(n_estimators=1)\n",
    "clf = clf.fit(x_train, y_train)\n",
    "\n",
    "accuracy = clf.score(x_train, y_train)\n",
    "print(' اداء النموذج في عينة التدريب بدقة ', accuracy*100)\n",
    "\n",
    "accuracy = clf.score(x_test, y_test)\n",
    "print(' اداء النموذج في عينة الفحص بدقة ', accuracy*100)\n",
    "\n",
    "ypredict = clf.predict(x_train)\n",
    "print('\\n Training classification report\\n',\n",
    "      classification_report(y_train, ypredict))\n",
    "print(\"\\n Confusion matrix of training \\n\",\n",
    "      confusion_matrix(y_train, ypredict))\n",
    "\n",
    "ypredict = clf.predict(x_test)\n",
    "print('\\n Testing classification report\\n',\n",
    "      classification_report(y_test, ypredict))\n",
    "print(\"\\n Confusion matrix of Testing \\n\",\n",
    "      confusion_matrix(y_test, ypredict))"
   ]
  },
  {
   "cell_type": "code",
   "execution_count": 24,
   "metadata": {},
   "outputs": [],
   "source": [
    "from sklearn.preprocessing import MinMaxScaler\n",
    "scaler = MinMaxScaler()\n",
    "scaler.fit(x_train)\n",
    "x_train = scaler.transform(x_train)\n",
    "x_test = scaler.transform(x_test)\n"
   ]
  },
  {
   "cell_type": "markdown",
   "metadata": {},
   "source": [
    "\n",
    "### نلاحظ ان عينه الفحص لازالت منخفضه"
   ]
  },
  {
   "cell_type": "code",
   "execution_count": 25,
   "metadata": {},
   "outputs": [
    {
     "name": "stdout",
     "output_type": "stream",
     "text": [
      " اداء النموذج في عينة التدريب بدقة  88.64059590316573\n",
      " اداء النموذج في عينة الفحص بدقة  62.77056277056276\n",
      "\n",
      " Training classification report\n",
      "               precision    recall  f1-score   support\n",
      "\n",
      "           0       0.91      0.92      0.91       354\n",
      "           1       0.84      0.83      0.83       183\n",
      "\n",
      "    accuracy                           0.89       537\n",
      "   macro avg       0.87      0.87      0.87       537\n",
      "weighted avg       0.89      0.89      0.89       537\n",
      "\n",
      "\n",
      " Confusion matrix of training \n",
      " [[325  29]\n",
      " [ 32 151]]\n",
      "\n",
      " Testing classification report\n",
      "               precision    recall  f1-score   support\n",
      "\n",
      "           0       0.70      0.71      0.71       146\n",
      "           1       0.49      0.48      0.49        85\n",
      "\n",
      "    accuracy                           0.63       231\n",
      "   macro avg       0.60      0.60      0.60       231\n",
      "weighted avg       0.63      0.63      0.63       231\n",
      "\n",
      "\n",
      " Confusion matrix of Testing \n",
      " [[104  42]\n",
      " [ 44  41]]\n"
     ]
    }
   ],
   "source": [
    "clf = RandomForestClassifier(n_estimators=1)\n",
    "clf = clf.fit(x_train, y_train)\n",
    "\n",
    "accuracy = clf.score(x_train, y_train)\n",
    "print(' اداء النموذج في عينة التدريب بدقة ', accuracy*100)\n",
    "\n",
    "accuracy = clf.score(x_test, y_test)\n",
    "print(' اداء النموذج في عينة الفحص بدقة ', accuracy*100)\n",
    "\n",
    "ypredict = clf.predict(x_train)\n",
    "print('\\n Training classification report\\n',\n",
    "      classification_report(y_train, ypredict))\n",
    "print(\"\\n Confusion matrix of training \\n\",\n",
    "      confusion_matrix(y_train, ypredict))\n",
    "\n",
    "ypredict = clf.predict(x_test)\n",
    "print('\\n Testing classification report\\n',\n",
    "      classification_report(y_test, ypredict))\n",
    "print(\"\\n Confusion matrix of Testing \\n\",\n",
    "      confusion_matrix(y_test, ypredict))"
   ]
  },
  {
   "cell_type": "markdown",
   "metadata": {},
   "source": [
    "### سوف نستخدم الان طريقه ضبط المعاملات  algorithim tuning\n",
    "#### سوف نقوم بزياده عدد ال decision tree"
   ]
  },
  {
   "cell_type": "code",
   "execution_count": 26,
   "metadata": {},
   "outputs": [
    {
     "name": "stdout",
     "output_type": "stream",
     "text": [
      " اداء النموذج في عينة التدريب بدقة  97.95158286778398\n",
      " اداء النموذج في عينة الفحص بدقة  73.16017316017316\n",
      "\n",
      " Training classification report\n",
      "               precision    recall  f1-score   support\n",
      "\n",
      "           0       0.99      0.98      0.98       347\n",
      "           1       0.96      0.98      0.97       190\n",
      "\n",
      "    accuracy                           0.98       537\n",
      "   macro avg       0.98      0.98      0.98       537\n",
      "weighted avg       0.98      0.98      0.98       537\n",
      "\n",
      "\n",
      " Confusion matrix of training \n",
      " [[340   7]\n",
      " [  4 186]]\n",
      "\n",
      " Testing classification report\n",
      "               precision    recall  f1-score   support\n",
      "\n",
      "           0       0.82      0.76      0.79       153\n",
      "           1       0.59      0.68      0.63        78\n",
      "\n",
      "    accuracy                           0.73       231\n",
      "   macro avg       0.71      0.72      0.71       231\n",
      "weighted avg       0.74      0.73      0.74       231\n",
      "\n",
      "\n",
      " Confusion matrix of Testing \n",
      " [[116  37]\n",
      " [ 25  53]]\n"
     ]
    }
   ],
   "source": [
    "columns = ['Pregnancies', 'Glucose', 'BloodPressure',\n",
    "           'SkinThickness', 'Insulin', 'BMI', 'DiabetesPedigreeFunction',\n",
    "           'Age']\n",
    "labels = df['Outcome'].values\n",
    "features = df[list(columns)].values\n",
    "\n",
    "x_train, x_test, y_train, y_test = train_test_split(features,\n",
    "                                                    labels, test_size=0.30)\n",
    "# n_estimatorsزياده حجم ال\n",
    "clf = RandomForestClassifier(n_estimators=5)\n",
    "clf = clf.fit(x_train, y_train)\n",
    "\n",
    "accuracy = clf.score(x_train, y_train)\n",
    "print(' اداء النموذج في عينة التدريب بدقة ', accuracy*100)\n",
    "\n",
    "accuracy = clf.score(x_test, y_test)\n",
    "print(' اداء النموذج في عينة الفحص بدقة ', accuracy*100)\n",
    "\n",
    "ypredict = clf.predict(x_train)\n",
    "print('\\n Training classification report\\n',\n",
    "      classification_report(y_train, ypredict))\n",
    "print(\"\\n Confusion matrix of training \\n\",\n",
    "      confusion_matrix(y_train, ypredict))\n",
    "\n",
    "ypredict = clf.predict(x_test)\n",
    "print('\\n Testing classification report\\n',\n",
    "      classification_report(y_test, ypredict))\n",
    "print(\"\\n Confusion matrix of Testing \\n\",\n",
    "      confusion_matrix(y_test, ypredict))"
   ]
  },
  {
   "cell_type": "markdown",
   "metadata": {},
   "source": [
    "### supervised learningالنوع الثاني من ال \n",
    "### 2 - Regression : prediction of continues lables\n",
    "#### التنبؤ بالقيم المستمره\n",
    "#### classificationمالفرق بينه وبين ال \n",
    "#### انه الكلاسفيكيشن يتوقع بالانواع والتصنيفات\n",
    "#### بينما الرقرشن يتوقع بالقيم (اسعار ,خسائر ,فوايد ,تسعيرات لاشياء) اي قيم مستمره\n"
   ]
  },
  {
   "cell_type": "code",
   "execution_count": 28,
   "metadata": {},
   "outputs": [
    {
     "data": {
      "text/html": [
       "<div>\n",
       "<style scoped>\n",
       "    .dataframe tbody tr th:only-of-type {\n",
       "        vertical-align: middle;\n",
       "    }\n",
       "\n",
       "    .dataframe tbody tr th {\n",
       "        vertical-align: top;\n",
       "    }\n",
       "\n",
       "    .dataframe thead th {\n",
       "        text-align: right;\n",
       "    }\n",
       "</style>\n",
       "<table border=\"1\" class=\"dataframe\">\n",
       "  <thead>\n",
       "    <tr style=\"text-align: right;\">\n",
       "      <th></th>\n",
       "      <th>id</th>\n",
       "      <th>date</th>\n",
       "      <th>price</th>\n",
       "      <th>bedrooms</th>\n",
       "      <th>bathrooms</th>\n",
       "      <th>sqft_living</th>\n",
       "      <th>sqft_lot</th>\n",
       "      <th>floors</th>\n",
       "      <th>waterfront</th>\n",
       "      <th>view</th>\n",
       "      <th>...</th>\n",
       "      <th>grade</th>\n",
       "      <th>sqft_above</th>\n",
       "      <th>sqft_basement</th>\n",
       "      <th>yr_built</th>\n",
       "      <th>yr_renovated</th>\n",
       "      <th>zipcode</th>\n",
       "      <th>lat</th>\n",
       "      <th>long</th>\n",
       "      <th>sqft_living15</th>\n",
       "      <th>sqft_lot15</th>\n",
       "    </tr>\n",
       "  </thead>\n",
       "  <tbody>\n",
       "    <tr>\n",
       "      <th>0</th>\n",
       "      <td>7129300520</td>\n",
       "      <td>20141013T000000</td>\n",
       "      <td>221900.0</td>\n",
       "      <td>3</td>\n",
       "      <td>1.00</td>\n",
       "      <td>1180</td>\n",
       "      <td>5650</td>\n",
       "      <td>1.0</td>\n",
       "      <td>0</td>\n",
       "      <td>0</td>\n",
       "      <td>...</td>\n",
       "      <td>7</td>\n",
       "      <td>1180</td>\n",
       "      <td>0</td>\n",
       "      <td>1955</td>\n",
       "      <td>0</td>\n",
       "      <td>98178</td>\n",
       "      <td>47.5112</td>\n",
       "      <td>-122.257</td>\n",
       "      <td>1340</td>\n",
       "      <td>5650</td>\n",
       "    </tr>\n",
       "    <tr>\n",
       "      <th>1</th>\n",
       "      <td>6414100192</td>\n",
       "      <td>20141209T000000</td>\n",
       "      <td>538000.0</td>\n",
       "      <td>3</td>\n",
       "      <td>2.25</td>\n",
       "      <td>2570</td>\n",
       "      <td>7242</td>\n",
       "      <td>2.0</td>\n",
       "      <td>0</td>\n",
       "      <td>0</td>\n",
       "      <td>...</td>\n",
       "      <td>7</td>\n",
       "      <td>2170</td>\n",
       "      <td>400</td>\n",
       "      <td>1951</td>\n",
       "      <td>1991</td>\n",
       "      <td>98125</td>\n",
       "      <td>47.7210</td>\n",
       "      <td>-122.319</td>\n",
       "      <td>1690</td>\n",
       "      <td>7639</td>\n",
       "    </tr>\n",
       "    <tr>\n",
       "      <th>2</th>\n",
       "      <td>5631500400</td>\n",
       "      <td>20150225T000000</td>\n",
       "      <td>180000.0</td>\n",
       "      <td>2</td>\n",
       "      <td>1.00</td>\n",
       "      <td>770</td>\n",
       "      <td>10000</td>\n",
       "      <td>1.0</td>\n",
       "      <td>0</td>\n",
       "      <td>0</td>\n",
       "      <td>...</td>\n",
       "      <td>6</td>\n",
       "      <td>770</td>\n",
       "      <td>0</td>\n",
       "      <td>1933</td>\n",
       "      <td>0</td>\n",
       "      <td>98028</td>\n",
       "      <td>47.7379</td>\n",
       "      <td>-122.233</td>\n",
       "      <td>2720</td>\n",
       "      <td>8062</td>\n",
       "    </tr>\n",
       "    <tr>\n",
       "      <th>3</th>\n",
       "      <td>2487200875</td>\n",
       "      <td>20141209T000000</td>\n",
       "      <td>604000.0</td>\n",
       "      <td>4</td>\n",
       "      <td>3.00</td>\n",
       "      <td>1960</td>\n",
       "      <td>5000</td>\n",
       "      <td>1.0</td>\n",
       "      <td>0</td>\n",
       "      <td>0</td>\n",
       "      <td>...</td>\n",
       "      <td>7</td>\n",
       "      <td>1050</td>\n",
       "      <td>910</td>\n",
       "      <td>1965</td>\n",
       "      <td>0</td>\n",
       "      <td>98136</td>\n",
       "      <td>47.5208</td>\n",
       "      <td>-122.393</td>\n",
       "      <td>1360</td>\n",
       "      <td>5000</td>\n",
       "    </tr>\n",
       "    <tr>\n",
       "      <th>4</th>\n",
       "      <td>1954400510</td>\n",
       "      <td>20150218T000000</td>\n",
       "      <td>510000.0</td>\n",
       "      <td>3</td>\n",
       "      <td>2.00</td>\n",
       "      <td>1680</td>\n",
       "      <td>8080</td>\n",
       "      <td>1.0</td>\n",
       "      <td>0</td>\n",
       "      <td>0</td>\n",
       "      <td>...</td>\n",
       "      <td>8</td>\n",
       "      <td>1680</td>\n",
       "      <td>0</td>\n",
       "      <td>1987</td>\n",
       "      <td>0</td>\n",
       "      <td>98074</td>\n",
       "      <td>47.6168</td>\n",
       "      <td>-122.045</td>\n",
       "      <td>1800</td>\n",
       "      <td>7503</td>\n",
       "    </tr>\n",
       "    <tr>\n",
       "      <th>5</th>\n",
       "      <td>7237550310</td>\n",
       "      <td>20140512T000000</td>\n",
       "      <td>1225000.0</td>\n",
       "      <td>4</td>\n",
       "      <td>4.50</td>\n",
       "      <td>5420</td>\n",
       "      <td>101930</td>\n",
       "      <td>1.0</td>\n",
       "      <td>0</td>\n",
       "      <td>0</td>\n",
       "      <td>...</td>\n",
       "      <td>11</td>\n",
       "      <td>3890</td>\n",
       "      <td>1530</td>\n",
       "      <td>2001</td>\n",
       "      <td>0</td>\n",
       "      <td>98053</td>\n",
       "      <td>47.6561</td>\n",
       "      <td>-122.005</td>\n",
       "      <td>4760</td>\n",
       "      <td>101930</td>\n",
       "    </tr>\n",
       "    <tr>\n",
       "      <th>6</th>\n",
       "      <td>1321400060</td>\n",
       "      <td>20140627T000000</td>\n",
       "      <td>257500.0</td>\n",
       "      <td>3</td>\n",
       "      <td>2.25</td>\n",
       "      <td>1715</td>\n",
       "      <td>6819</td>\n",
       "      <td>2.0</td>\n",
       "      <td>0</td>\n",
       "      <td>0</td>\n",
       "      <td>...</td>\n",
       "      <td>7</td>\n",
       "      <td>1715</td>\n",
       "      <td>0</td>\n",
       "      <td>1995</td>\n",
       "      <td>0</td>\n",
       "      <td>98003</td>\n",
       "      <td>47.3097</td>\n",
       "      <td>-122.327</td>\n",
       "      <td>2238</td>\n",
       "      <td>6819</td>\n",
       "    </tr>\n",
       "    <tr>\n",
       "      <th>7</th>\n",
       "      <td>2008000270</td>\n",
       "      <td>20150115T000000</td>\n",
       "      <td>291850.0</td>\n",
       "      <td>3</td>\n",
       "      <td>1.50</td>\n",
       "      <td>1060</td>\n",
       "      <td>9711</td>\n",
       "      <td>1.0</td>\n",
       "      <td>0</td>\n",
       "      <td>0</td>\n",
       "      <td>...</td>\n",
       "      <td>7</td>\n",
       "      <td>1060</td>\n",
       "      <td>0</td>\n",
       "      <td>1963</td>\n",
       "      <td>0</td>\n",
       "      <td>98198</td>\n",
       "      <td>47.4095</td>\n",
       "      <td>-122.315</td>\n",
       "      <td>1650</td>\n",
       "      <td>9711</td>\n",
       "    </tr>\n",
       "    <tr>\n",
       "      <th>8</th>\n",
       "      <td>2414600126</td>\n",
       "      <td>20150415T000000</td>\n",
       "      <td>229500.0</td>\n",
       "      <td>3</td>\n",
       "      <td>1.00</td>\n",
       "      <td>1780</td>\n",
       "      <td>7470</td>\n",
       "      <td>1.0</td>\n",
       "      <td>0</td>\n",
       "      <td>0</td>\n",
       "      <td>...</td>\n",
       "      <td>7</td>\n",
       "      <td>1050</td>\n",
       "      <td>730</td>\n",
       "      <td>1960</td>\n",
       "      <td>0</td>\n",
       "      <td>98146</td>\n",
       "      <td>47.5123</td>\n",
       "      <td>-122.337</td>\n",
       "      <td>1780</td>\n",
       "      <td>8113</td>\n",
       "    </tr>\n",
       "    <tr>\n",
       "      <th>9</th>\n",
       "      <td>3793500160</td>\n",
       "      <td>20150312T000000</td>\n",
       "      <td>323000.0</td>\n",
       "      <td>3</td>\n",
       "      <td>2.50</td>\n",
       "      <td>1890</td>\n",
       "      <td>6560</td>\n",
       "      <td>2.0</td>\n",
       "      <td>0</td>\n",
       "      <td>0</td>\n",
       "      <td>...</td>\n",
       "      <td>7</td>\n",
       "      <td>1890</td>\n",
       "      <td>0</td>\n",
       "      <td>2003</td>\n",
       "      <td>0</td>\n",
       "      <td>98038</td>\n",
       "      <td>47.3684</td>\n",
       "      <td>-122.031</td>\n",
       "      <td>2390</td>\n",
       "      <td>7570</td>\n",
       "    </tr>\n",
       "  </tbody>\n",
       "</table>\n",
       "<p>10 rows × 21 columns</p>\n",
       "</div>"
      ],
      "text/plain": [
       "           id             date      price  bedrooms  bathrooms  sqft_living  \\\n",
       "0  7129300520  20141013T000000   221900.0         3       1.00         1180   \n",
       "1  6414100192  20141209T000000   538000.0         3       2.25         2570   \n",
       "2  5631500400  20150225T000000   180000.0         2       1.00          770   \n",
       "3  2487200875  20141209T000000   604000.0         4       3.00         1960   \n",
       "4  1954400510  20150218T000000   510000.0         3       2.00         1680   \n",
       "5  7237550310  20140512T000000  1225000.0         4       4.50         5420   \n",
       "6  1321400060  20140627T000000   257500.0         3       2.25         1715   \n",
       "7  2008000270  20150115T000000   291850.0         3       1.50         1060   \n",
       "8  2414600126  20150415T000000   229500.0         3       1.00         1780   \n",
       "9  3793500160  20150312T000000   323000.0         3       2.50         1890   \n",
       "\n",
       "   sqft_lot  floors  waterfront  view  ...  grade  sqft_above  sqft_basement  \\\n",
       "0      5650     1.0           0     0  ...      7        1180              0   \n",
       "1      7242     2.0           0     0  ...      7        2170            400   \n",
       "2     10000     1.0           0     0  ...      6         770              0   \n",
       "3      5000     1.0           0     0  ...      7        1050            910   \n",
       "4      8080     1.0           0     0  ...      8        1680              0   \n",
       "5    101930     1.0           0     0  ...     11        3890           1530   \n",
       "6      6819     2.0           0     0  ...      7        1715              0   \n",
       "7      9711     1.0           0     0  ...      7        1060              0   \n",
       "8      7470     1.0           0     0  ...      7        1050            730   \n",
       "9      6560     2.0           0     0  ...      7        1890              0   \n",
       "\n",
       "   yr_built  yr_renovated  zipcode      lat     long  sqft_living15  \\\n",
       "0      1955             0    98178  47.5112 -122.257           1340   \n",
       "1      1951          1991    98125  47.7210 -122.319           1690   \n",
       "2      1933             0    98028  47.7379 -122.233           2720   \n",
       "3      1965             0    98136  47.5208 -122.393           1360   \n",
       "4      1987             0    98074  47.6168 -122.045           1800   \n",
       "5      2001             0    98053  47.6561 -122.005           4760   \n",
       "6      1995             0    98003  47.3097 -122.327           2238   \n",
       "7      1963             0    98198  47.4095 -122.315           1650   \n",
       "8      1960             0    98146  47.5123 -122.337           1780   \n",
       "9      2003             0    98038  47.3684 -122.031           2390   \n",
       "\n",
       "   sqft_lot15  \n",
       "0        5650  \n",
       "1        7639  \n",
       "2        8062  \n",
       "3        5000  \n",
       "4        7503  \n",
       "5      101930  \n",
       "6        6819  \n",
       "7        9711  \n",
       "8        8113  \n",
       "9        7570  \n",
       "\n",
       "[10 rows x 21 columns]"
      ]
     },
     "execution_count": 28,
     "metadata": {},
     "output_type": "execute_result"
    }
   ],
   "source": [
    "# import pandas and numpy\n",
    "import pandas as pd\n",
    "import numpy as np\n",
    "# load the house sale king county data set\n",
    "df = pd.read_csv('kc_house_data.csv')\n",
    "df.head(10)"
   ]
  },
  {
   "cell_type": "code",
   "execution_count": 29,
   "metadata": {
    "scrolled": true
   },
   "outputs": [
    {
     "name": "stdout",
     "output_type": "stream",
     "text": [
      "<class 'pandas.core.frame.DataFrame'>\n",
      "RangeIndex: 21613 entries, 0 to 21612\n",
      "Data columns (total 21 columns):\n",
      "id               21613 non-null int64\n",
      "date             21613 non-null object\n",
      "price            21613 non-null float64\n",
      "bedrooms         21613 non-null int64\n",
      "bathrooms        21613 non-null float64\n",
      "sqft_living      21613 non-null int64\n",
      "sqft_lot         21613 non-null int64\n",
      "floors           21613 non-null float64\n",
      "waterfront       21613 non-null int64\n",
      "view             21613 non-null int64\n",
      "condition        21613 non-null int64\n",
      "grade            21613 non-null int64\n",
      "sqft_above       21613 non-null int64\n",
      "sqft_basement    21613 non-null int64\n",
      "yr_built         21613 non-null int64\n",
      "yr_renovated     21613 non-null int64\n",
      "zipcode          21613 non-null int64\n",
      "lat              21613 non-null float64\n",
      "long             21613 non-null float64\n",
      "sqft_living15    21613 non-null int64\n",
      "sqft_lot15       21613 non-null int64\n",
      "dtypes: float64(5), int64(15), object(1)\n",
      "memory usage: 3.5+ MB\n"
     ]
    }
   ],
   "source": [
    "# نحاول نتفحص البيانات ونفهم ايش يحتوي كل كولوم ونحذف الكلوملومنس الي ماتاثر بالنتيجه\n",
    "df.info()"
   ]
  },
  {
   "cell_type": "code",
   "execution_count": 32,
   "metadata": {
    "scrolled": true
   },
   "outputs": [
    {
     "data": {
      "text/plain": [
       "id               0\n",
       "date             0\n",
       "price            0\n",
       "bedrooms         0\n",
       "bathrooms        0\n",
       "sqft_living      0\n",
       "sqft_lot         0\n",
       "floors           0\n",
       "waterfront       0\n",
       "view             0\n",
       "condition        0\n",
       "grade            0\n",
       "sqft_above       0\n",
       "sqft_basement    0\n",
       "yr_built         0\n",
       "yr_renovated     0\n",
       "zipcode          0\n",
       "lat              0\n",
       "long             0\n",
       "sqft_living15    0\n",
       "sqft_lot15       0\n",
       "dtype: int64"
      ]
     },
     "execution_count": 32,
     "metadata": {},
     "output_type": "execute_result"
    }
   ],
   "source": [
    "# طريقه للكشف عن البيانات المفقوده\n",
    "# كل خاصيه مقابله كم نان فاليو\n",
    "df.isnull().sum()"
   ]
  },
  {
   "cell_type": "code",
   "execution_count": null,
   "metadata": {},
   "outputs": [],
   "source": [
    "#بعد حذف الخواص الغير مهمة التي لاتؤثر في اسعار البيوت \n",
    "df = df.drop(['id', 'date', 'lat', 'long', 'zipcode'], axis=1)"
   ]
  },
  {
   "cell_type": "code",
   "execution_count": 47,
   "metadata": {
    "scrolled": true
   },
   "outputs": [
    {
     "data": {
      "text/html": [
       "<div>\n",
       "<style scoped>\n",
       "    .dataframe tbody tr th:only-of-type {\n",
       "        vertical-align: middle;\n",
       "    }\n",
       "\n",
       "    .dataframe tbody tr th {\n",
       "        vertical-align: top;\n",
       "    }\n",
       "\n",
       "    .dataframe thead th {\n",
       "        text-align: right;\n",
       "    }\n",
       "</style>\n",
       "<table border=\"1\" class=\"dataframe\">\n",
       "  <thead>\n",
       "    <tr style=\"text-align: right;\">\n",
       "      <th></th>\n",
       "      <th>price</th>\n",
       "      <th>bedrooms</th>\n",
       "      <th>bathrooms</th>\n",
       "      <th>sqft_living</th>\n",
       "      <th>sqft_lot</th>\n",
       "      <th>floors</th>\n",
       "      <th>waterfront</th>\n",
       "      <th>view</th>\n",
       "      <th>condition</th>\n",
       "      <th>grade</th>\n",
       "      <th>sqft_above</th>\n",
       "      <th>sqft_basement</th>\n",
       "      <th>yr_built</th>\n",
       "      <th>yr_renovated</th>\n",
       "      <th>sqft_living15</th>\n",
       "      <th>sqft_lot15</th>\n",
       "    </tr>\n",
       "  </thead>\n",
       "  <tbody>\n",
       "    <tr>\n",
       "      <th>0</th>\n",
       "      <td>221900.0</td>\n",
       "      <td>3</td>\n",
       "      <td>1.00</td>\n",
       "      <td>1180</td>\n",
       "      <td>5650</td>\n",
       "      <td>1.0</td>\n",
       "      <td>0</td>\n",
       "      <td>0</td>\n",
       "      <td>3</td>\n",
       "      <td>7</td>\n",
       "      <td>1180</td>\n",
       "      <td>0</td>\n",
       "      <td>1955</td>\n",
       "      <td>0</td>\n",
       "      <td>1340</td>\n",
       "      <td>5650</td>\n",
       "    </tr>\n",
       "    <tr>\n",
       "      <th>1</th>\n",
       "      <td>538000.0</td>\n",
       "      <td>3</td>\n",
       "      <td>2.25</td>\n",
       "      <td>2570</td>\n",
       "      <td>7242</td>\n",
       "      <td>2.0</td>\n",
       "      <td>0</td>\n",
       "      <td>0</td>\n",
       "      <td>3</td>\n",
       "      <td>7</td>\n",
       "      <td>2170</td>\n",
       "      <td>400</td>\n",
       "      <td>1951</td>\n",
       "      <td>1991</td>\n",
       "      <td>1690</td>\n",
       "      <td>7639</td>\n",
       "    </tr>\n",
       "    <tr>\n",
       "      <th>2</th>\n",
       "      <td>180000.0</td>\n",
       "      <td>2</td>\n",
       "      <td>1.00</td>\n",
       "      <td>770</td>\n",
       "      <td>10000</td>\n",
       "      <td>1.0</td>\n",
       "      <td>0</td>\n",
       "      <td>0</td>\n",
       "      <td>3</td>\n",
       "      <td>6</td>\n",
       "      <td>770</td>\n",
       "      <td>0</td>\n",
       "      <td>1933</td>\n",
       "      <td>0</td>\n",
       "      <td>2720</td>\n",
       "      <td>8062</td>\n",
       "    </tr>\n",
       "  </tbody>\n",
       "</table>\n",
       "</div>"
      ],
      "text/plain": [
       "      price  bedrooms  bathrooms  sqft_living  sqft_lot  floors  waterfront  \\\n",
       "0  221900.0         3       1.00         1180      5650     1.0           0   \n",
       "1  538000.0         3       2.25         2570      7242     2.0           0   \n",
       "2  180000.0         2       1.00          770     10000     1.0           0   \n",
       "\n",
       "   view  condition  grade  sqft_above  sqft_basement  yr_built  yr_renovated  \\\n",
       "0     0          3      7        1180              0      1955             0   \n",
       "1     0          3      7        2170            400      1951          1991   \n",
       "2     0          3      6         770              0      1933             0   \n",
       "\n",
       "   sqft_living15  sqft_lot15  \n",
       "0           1340        5650  \n",
       "1           1690        7639  \n",
       "2           2720        8062  "
      ]
     },
     "execution_count": 47,
     "metadata": {},
     "output_type": "execute_result"
    }
   ],
   "source": [
    "df.head(3)"
   ]
  },
  {
   "cell_type": "code",
   "execution_count": 61,
   "metadata": {},
   "outputs": [
    {
     "data": {
      "text/plain": [
       "<matplotlib.axes._subplots.AxesSubplot at 0x140c7b00>"
      ]
     },
     "execution_count": 61,
     "metadata": {},
     "output_type": "execute_result"
    },
    {
     "data": {
      "image/png": "[encoded data removed]",
      "text/plain": [
       "<Figure size 3456x432 with 1 Axes>"
      ]
     },
     "metadata": {
      "needs_background": "light"
     },
     "output_type": "display_data"
    }
   ],
   "source": [
    "# الان بنحاول نستعرض عدة رسوم تصف لنا علاقه خواص ببعضها\n",
    "# حتى تمكننا من فهم الداتا اكثر باستخدام stripplot \n",
    "import matplotlib.pyplot as plt\n",
    "import seaborn as sb\n",
    "plt.figure(figsize=(48,6))\n",
    "sb.stripplot(x='yr_built', y='bedrooms', data=df)\n",
    "# تعطينا منظور اوسع للبيانات ونلاحظ سلوكيات مختلفه من خلالها\n",
    "# هنا نلاحظ علاقة عدد الغرف بالسنوات"
   ]
  },
  {
   "cell_type": "code",
   "execution_count": 62,
   "metadata": {
    "scrolled": true
   },
   "outputs": [
    {
     "data": {
      "text/plain": [
       "<matplotlib.axes._subplots.AxesSubplot at 0x13ab4a20>"
      ]
     },
     "execution_count": 62,
     "metadata": {},
     "output_type": "execute_result"
    },
    {
     "data": {
      "image/png": "[encoded data removed]",
      "text/plain": [
       "<Figure size 1440x576 with 1 Axes>"
      ]
     },
     "metadata": {
      "needs_background": "light"
     },
     "output_type": "display_data"
    }
   ],
   "source": [
    "plt.figure(figsize=(20,8))\n",
    "sb.set_context('notebook', font_scale=1.5,\n",
    "               rc={\"lines.linewidth\": 2.5})\n",
    "sb.stripplot(x='bedrooms', y='price', data=df)\n",
    "# هنا نلاحظ علاقة عدد الغرف باسعار البيوت"
   ]
  },
  {
   "cell_type": "code",
   "execution_count": 63,
   "metadata": {},
   "outputs": [
    {
     "data": {
      "text/plain": [
       "<matplotlib.axes._subplots.AxesSubplot at 0x1239e908>"
      ]
     },
     "execution_count": 63,
     "metadata": {},
     "output_type": "execute_result"
    },
    {
     "data": {
      "image/png": "[encoded data removed]",
      "text/plain": [
       "<Figure size 3456x576 with 1 Axes>"
      ]
     },
     "metadata": {
      "needs_background": "light"
     },
     "output_type": "display_data"
    }
   ],
   "source": [
    "# هنا نلاحظ علاقه الاسعار وعدد الغرف بالقريد \n",
    "plt.figure(figsize=(48,8))\n",
    "sb.barplot(x='bedrooms', y='price', hue='grade', data=df)"
   ]
  },
  {
   "cell_type": "code",
   "execution_count": 64,
   "metadata": {},
   "outputs": [
    {
     "data": {
      "text/plain": [
       "<matplotlib.axes._subplots.AxesSubplot at 0x13a6fac8>"
      ]
     },
     "execution_count": 64,
     "metadata": {},
     "output_type": "execute_result"
    },
    {
     "data": {
      "image/png": "[encoded data removed]",
      "text/plain": [
       "<Figure size 432x288 with 1 Axes>"
      ]
     },
     "metadata": {
      "needs_background": "light"
     },
     "output_type": "display_data"
    }
   ],
   "source": [
    "# هنا نلاحظ ان اغلبيه البيوت هي الي كانت تحتوي على 3 او 4 غرف\n",
    "sb.countplot(x='bedrooms', data=df, palette='hls')"
   ]
  },
  {
   "cell_type": "code",
   "execution_count": 78,
   "metadata": {},
   "outputs": [
    {
     "data": {
      "text/plain": [
       "LinearRegression(copy_X=True, fit_intercept=True, n_jobs=None, normalize=False)"
      ]
     },
     "execution_count": 78,
     "metadata": {},
     "output_type": "execute_result"
    }
   ],
   "source": [
    "columns = ['bedrooms', 'bathrooms', 'sqft_living', 'sqft_lot', 'floors',\n",
    "       'waterfront', 'view', 'condition', 'grade', 'sqft_above',\n",
    "       'sqft_basement', 'yr_built', 'yr_renovated', 'sqft_living15',\n",
    "       'sqft_lot15']\n",
    "\n",
    "features = df[list(columns)].values\n",
    "labels = df['price']\n",
    "\n",
    "x_train, x_test, y_train, y_test = train_test_split(features,\n",
    "                                                   labels,\n",
    "                                                    test_size=0.30)\n",
    "\n",
    "from sklearn.linear_model import LinearRegression\n",
    "reg = LinearRegression()\n",
    "reg.fit(x_train, y_train)"
   ]
  },
  {
   "cell_type": "code",
   "execution_count": 83,
   "metadata": {},
   "outputs": [
    {
     "name": "stdout",
     "output_type": "stream",
     "text": [
      "Accuracy in the training data:  64.66877167798991 %\n",
      "Accuracy in the testing data:  66.52934553029546 %\n"
     ]
    }
   ],
   "source": [
    "# نشوف مدى دقة المودل\n",
    "accuracy = reg.score(x_train, y_train)\n",
    "print(\"Accuracy in the training data: \", accuracy*100, \"%\")\n",
    "\n",
    "accuracy = reg.score(x_test, y_test)\n",
    "print(\"Accuracy in the testing data: \", accuracy*100, \"%\")"
   ]
  },
  {
   "cell_type": "markdown",
   "metadata": {},
   "source": [
    "#### نسبة دقة المودل ليست مرضية لذلك سوف نقوم بمحاولة لتحسين اداء النموذج باستعمال ستاندرد سكالر"
   ]
  },
  {
   "cell_type": "code",
   "execution_count": 86,
   "metadata": {},
   "outputs": [],
   "source": [
    "columns = ['bedrooms', 'bathrooms', 'sqft_living', 'sqft_lot', 'floors',\n",
    "       'waterfront', 'view', 'condition', 'grade', 'sqft_above',\n",
    "       'sqft_basement', 'yr_built', 'yr_renovated', 'sqft_living15',\n",
    "       'sqft_lot15']\n",
    "\n",
    "features = df[list(columns)].values\n",
    "labels = df['price']\n",
    "\n",
    "x_train, x_test, y_train, y_test = train_test_split(features,\n",
    "                                                   labels,\n",
    "                                                    test_size=0.30)\n",
    "scaler = StandardScaler()\n",
    "scaler.fit(x_train)\n",
    "x_train = scaler.transform(x_train)\n",
    "x_test = scaler.transform(x_test)"
   ]
  },
  {
   "cell_type": "markdown",
   "metadata": {},
   "source": [
    "#### نلاحظ ان دقة المودل مازالت منخفضه"
   ]
  },
  {
   "cell_type": "code",
   "execution_count": 87,
   "metadata": {},
   "outputs": [
    {
     "name": "stdout",
     "output_type": "stream",
     "text": [
      "Accuracy in the training data:  65.23075156285623 %\n",
      "Accuracy in the testing data:  65.6540053810777 %\n"
     ]
    }
   ],
   "source": [
    "reg = LinearRegression()\n",
    "reg.fit(x_train, y_train)\n",
    "\n",
    "# نشوف مدى دقة المودل\n",
    "accuracy = reg.score(x_train, y_train)\n",
    "print(\"Accuracy in the training data: \", accuracy*100, \"%\")\n",
    "\n",
    "accuracy = reg.score(x_test, y_test)\n",
    "print(\"Accuracy in the testing data: \", accuracy*100, \"%\")"
   ]
  },
  {
   "cell_type": "markdown",
   "metadata": {},
   "source": [
    "#### سنحاول تحسين اداء المودل باستخدام algorithim tuning ضبط المعاملات"
   ]
  },
  {
   "cell_type": "code",
   "execution_count": 2,
   "metadata": {},
   "outputs": [
    {
     "ename": "NameError",
     "evalue": "name 'df' is not defined",
     "output_type": "error",
     "traceback": [
      "\u001b[1;31m---------------------------------------------------------------------------\u001b[0m",
      "\u001b[1;31mNameError\u001b[0m                                 Traceback (most recent call last)",
      "\u001b[1;32m<ipython-input-2-4b2689adcc17>\u001b[0m in \u001b[0;36m<module>\u001b[1;34m\u001b[0m\n\u001b[0;32m      4\u001b[0m        'sqft_lot15']\n\u001b[0;32m      5\u001b[0m \u001b[1;33m\u001b[0m\u001b[0m\n\u001b[1;32m----> 6\u001b[1;33m \u001b[0mfeatures\u001b[0m \u001b[1;33m=\u001b[0m \u001b[0mdf\u001b[0m\u001b[1;33m[\u001b[0m\u001b[0mlist\u001b[0m\u001b[1;33m(\u001b[0m\u001b[0mcolumns\u001b[0m\u001b[1;33m)\u001b[0m\u001b[1;33m]\u001b[0m\u001b[1;33m.\u001b[0m\u001b[0mvalues\u001b[0m\u001b[1;33m\u001b[0m\u001b[1;33m\u001b[0m\u001b[0m\n\u001b[0m\u001b[0;32m      7\u001b[0m \u001b[0mlabels\u001b[0m \u001b[1;33m=\u001b[0m \u001b[0mdf\u001b[0m\u001b[1;33m[\u001b[0m\u001b[1;34m'price'\u001b[0m\u001b[1;33m]\u001b[0m\u001b[1;33m\u001b[0m\u001b[1;33m\u001b[0m\u001b[0m\n\u001b[0;32m      8\u001b[0m x_train, x_test, y_train, y_test = train_test_split(features,\n",
      "\u001b[1;31mNameError\u001b[0m: name 'df' is not defined"
     ]
    }
   ],
   "source": [
    "columns = ['bedrooms', 'bathrooms', 'sqft_living', 'sqft_lot', 'floors',\n",
    "       'waterfront', 'view', 'condition', 'grade', 'sqft_above',\n",
    "       'sqft_basement', 'yr_built', 'yr_renovated', 'sqft_living15',\n",
    "       'sqft_lot15']\n",
    "\n",
    "features = df[list(columns)].values\n",
    "labels = df['price']\n",
    "x_train, x_test, y_train, y_test = train_test_split(features,\n",
    "                                                   labels,\n",
    "                                                    test_size=0.30)\n",
    "\n",
    "from sklearn.linear_model import LinearRegression\n",
    "reg = LinearRegression(n_jobs=11)\n",
    "\n",
    "reg.fit(x_train, y_train)\n",
    "\n",
    "accuracy = reg.score(x_train, y_train)\n",
    "print(\"Accuracy in the training data: \", accuracy*100, \"%\")\n",
    "\n",
    "accuracy = reg.score(x_test, y_test)\n",
    "print(\"Accuracy in the testing data: \", accuracy*100, \"%\")"
   ]
  },
  {
   "cell_type": "markdown",
   "metadata": {},
   "source": [
    "## Unsupervised learning"
   ]
  },
  {
   "cell_type": "markdown",
   "metadata": {},
   "source": [
    "#### ماذا نقصد به ؟ وماهي انواعه؟ وماهو وجه الاختلاف بينه وبين ال supervised learning"
   ]
  },
  {
   "cell_type": "markdown",
   "metadata": {},
   "source": [
    "#### هي طريقه تتم بدون اشراف\n",
    "#### في هذه الطريقه لن يكون لدينا labels \n",
    "#### راح نعطي الخوارزميه كل الداتا الي عندنا وهيا بتحاول ان تقسم هذه البيانات الى مجموعات\n",
    "#### تحاول تحدد ايش الخاصيه الي تحدد الى كم مجموعه راح تتقسم البيانات\n",
    "#### مثلا لو كان عندنا بيانات عن التفاح فمثلا الخوارزميه تستخدم خاصيه الالوان لتقسم التفاح الى مجموعات حسب اللون\n",
    "#### او ممكن الخوارزميه تقسم هذا التفاح على حسب الاحجام\n",
    "#### الخوارزميه بنفسها تحلل البيانات وتحاول تستكشف انماط معينه وبناء على هذه الانماط تقسم المجموعات\n",
    "#### عدد المجموعات يتوقف على شيئين\n",
    "#### النوع الاول اننا نحددقيمة k قيمة المجموعات\n",
    "#### تحاول انها تقوم بتقسيم البيانات الى عدد مجموعات مناسب نوعا ما باستخدام رياضيات optemal\n",
    "#### النوع الثاني هو نوع مفتوح وهو عباره عن خوارزميه\n",
    "#### مالفرق بينه وبين superviesed learning:\n",
    "#### في النوع الاول كنا نقوم بتقسيم الداتا الى فيتشرز وليبلز هذا اليبلز ممكن تكون باينري 0 1 او ممكن تكون قيم مستمره\n",
    "#### لكن في النوع الثاني لايوجد فيها ليبلز \n",
    "####  الباراميترز الي راح نمررهم للخوارزميه هو الداتا سيت فقط\n",
    "#### اي راح نمرر له فقط الخواص بدون الصفات features without lables\n",
    "\n",
    "\n",
    "\n",
    "\n",
    "\n",
    "\n",
    "\n"
   ]
  },
  {
   "cell_type": "markdown",
   "metadata": {},
   "source": [
    "## Types of unsupervised learing:\n"
   ]
  },
  {
   "cell_type": "markdown",
   "metadata": {},
   "source": [
    "clustering: a clustering problem is where you want to discover the inherent grouping in the data, such as grouping customers by purchasing behavior\n",
    "\n",
    " نوع من المشاكل الي نحاول فيها استكشاف الصفات او السلوكيات الي في خواص البيانات حتى نقسمهم الى مجموعات\n",
    "مثلما قسمنا مجموعة بيانات التفاح بناء على اللون, او الحجم\n",
    "اذا هذه الخوارزميه سوف تقوم بالاستكشاف في هذه الخواص نفسها حتى تقسمهم الى مجموعات\n",
    "\n",
    "association: an association rule learning problem is where you want discover rules that escribe large portions of your data, such as people that buy x also tend to by y\n",
    "recommendationsمقارب جدا لموضوع ال \n",
    "\n",
    "مثل الي يحصل في برنامج الفيس بوك عند اقتراح طلبات صداقه لك\n",
    "\n"
   ]
  },
  {
   "cell_type": "markdown",
   "metadata": {},
   "source": [
    "## Support vector machine SVM"
   ]
  },
  {
   "cell_type": "markdown",
   "metadata": {},
   "source": [
    "هي من الخوارزميات الخطية اي ان فكره عملها هي الفصل بين نوعين من البيانات من خلال فصلها بخط على المستوى\n",
    "تطبيقات السي في ام ممكن تستخدم في  \n",
    "classifications, regression , clustering, outlier detection\n",
    "\n",
    "يمكننا ان نلخص عمل ال سبورت فكتور مشين في انها تقوم بايصال البيانات الى الكلاس الخاص بها\n",
    "\n",
    "mapping the data into its class\n",
    "\n",
    "لاينصح باستخدام هذه الخوارزميه اذا كان لدينا عدد كبير من البيانات فوق 200 الف مثلا"
   ]
  },
  {
   "cell_type": "markdown",
   "metadata": {},
   "source": [
    "عدد الابعاد يساوي عدد الخواص وغالبا بيكون عندنا اكثر من خاصيتين او ثلاثه مثلا ممكن يكون عندنا عشرين خاصيه وهي تعني عشرين بعد\n",
    "\n",
    "كلما زاد عدد الابعاد كلما زادت مشكله ال linearity\n",
    "\n",
    "اي اننا كيف ممكن نقسم البيانات باستخدام خط؟\n",
    "\n",
    "كيف نعرف اذا كانت بياناتا غير قابله للتصنيف او غير قابله للفصل بخط؟\n",
    "\n",
    "عينتين او كلاسين من البيانات يمكن تقسيمهم بواسطه خط اذا ماكان في منطقه تقاطع بينهم\n",
    "\n",
    "المنطقه المشتركه an intersection"
   ]
  }
 ],
 "metadata": {
  "kernelspec": {
   "display_name": "Python 3",
   "language": "python",
   "name": "python3"
  },
  "language_info": {
   "codemirror_mode": {
    "name": "ipython",
    "version": 3
   },
   "file_extension": ".py",
   "mimetype": "text/x-python",
   "name": "python",
   "nbconvert_exporter": "python",
   "pygments_lexer": "ipython3",
   "version": "3.8.5"
  }
 },
 "nbformat": 4,
 "nbformat_minor": 2
}
