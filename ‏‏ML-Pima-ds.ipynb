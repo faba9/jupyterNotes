{
 "cells": [
  {
   "cell_type": "markdown",
   "metadata": {},
   "source": [
    "### Pima dataset using radom forest"
   ]
  },
  {
   "cell_type": "code",
   "execution_count": 1,
   "metadata": {},
   "outputs": [],
   "source": [
    "# import libraries that we need\n",
    "import pandas as pd\n",
    "import numpy as np"
   ]
  },
  {
   "cell_type": "code",
   "execution_count": 2,
   "metadata": {},
   "outputs": [
    {
     "data": {
      "text/html": [
       "<div>\n",
       "<style scoped>\n",
       "    .dataframe tbody tr th:only-of-type {\n",
       "        vertical-align: middle;\n",
       "    }\n",
       "\n",
       "    .dataframe tbody tr th {\n",
       "        vertical-align: top;\n",
       "    }\n",
       "\n",
       "    .dataframe thead th {\n",
       "        text-align: right;\n",
       "    }\n",
       "</style>\n",
       "<table border=\"1\" class=\"dataframe\">\n",
       "  <thead>\n",
       "    <tr style=\"text-align: right;\">\n",
       "      <th></th>\n",
       "      <th>Pregnancies</th>\n",
       "      <th>Glucose</th>\n",
       "      <th>BloodPressure</th>\n",
       "      <th>SkinThickness</th>\n",
       "      <th>Insulin</th>\n",
       "      <th>BMI</th>\n",
       "      <th>DiabetesPedigreeFunction</th>\n",
       "      <th>Age</th>\n",
       "      <th>Outcome</th>\n",
       "    </tr>\n",
       "  </thead>\n",
       "  <tbody>\n",
       "    <tr>\n",
       "      <th>0</th>\n",
       "      <td>6</td>\n",
       "      <td>148</td>\n",
       "      <td>72</td>\n",
       "      <td>35</td>\n",
       "      <td>0</td>\n",
       "      <td>33.6</td>\n",
       "      <td>0.627</td>\n",
       "      <td>50</td>\n",
       "      <td>1</td>\n",
       "    </tr>\n",
       "    <tr>\n",
       "      <th>1</th>\n",
       "      <td>1</td>\n",
       "      <td>85</td>\n",
       "      <td>66</td>\n",
       "      <td>29</td>\n",
       "      <td>0</td>\n",
       "      <td>26.6</td>\n",
       "      <td>0.351</td>\n",
       "      <td>31</td>\n",
       "      <td>0</td>\n",
       "    </tr>\n",
       "    <tr>\n",
       "      <th>2</th>\n",
       "      <td>8</td>\n",
       "      <td>183</td>\n",
       "      <td>64</td>\n",
       "      <td>0</td>\n",
       "      <td>0</td>\n",
       "      <td>23.3</td>\n",
       "      <td>0.672</td>\n",
       "      <td>32</td>\n",
       "      <td>1</td>\n",
       "    </tr>\n",
       "    <tr>\n",
       "      <th>3</th>\n",
       "      <td>1</td>\n",
       "      <td>89</td>\n",
       "      <td>66</td>\n",
       "      <td>23</td>\n",
       "      <td>94</td>\n",
       "      <td>28.1</td>\n",
       "      <td>0.167</td>\n",
       "      <td>21</td>\n",
       "      <td>0</td>\n",
       "    </tr>\n",
       "  </tbody>\n",
       "</table>\n",
       "</div>"
      ],
      "text/plain": [
       "   Pregnancies  Glucose  BloodPressure  SkinThickness  Insulin   BMI  \\\n",
       "0            6      148             72             35        0  33.6   \n",
       "1            1       85             66             29        0  26.6   \n",
       "2            8      183             64              0        0  23.3   \n",
       "3            1       89             66             23       94  28.1   \n",
       "\n",
       "   DiabetesPedigreeFunction  Age  Outcome  \n",
       "0                     0.627   50        1  \n",
       "1                     0.351   31        0  \n",
       "2                     0.672   32        1  \n",
       "3                     0.167   21        0  "
      ]
     },
     "execution_count": 2,
     "metadata": {},
     "output_type": "execute_result"
    }
   ],
   "source": [
    "# read the dataset file using pandas library\n",
    "df = pd.read_csv('pima_ds.csv')\n",
    "df.head(4)"
   ]
  },
  {
   "cell_type": "code",
   "execution_count": 4,
   "metadata": {},
   "outputs": [
    {
     "data": {
      "text/plain": [
       "Index(['Pregnancies', 'Glucose', 'BloodPressure', 'SkinThickness', 'Insulin',\n",
       "       'BMI', 'DiabetesPedigreeFunction', 'Age', 'Outcome'],\n",
       "      dtype='object')"
      ]
     },
     "execution_count": 4,
     "metadata": {},
     "output_type": "execute_result"
    }
   ],
   "source": [
    "# print columns of the data\n",
    "df.columns"
   ]
  },
  {
   "cell_type": "code",
   "execution_count": 5,
   "metadata": {},
   "outputs": [],
   "source": [
    "columns =['Pregnancies', 'Glucose', 'BloodPressure', 'SkinThickness',\n",
    "          'Insulin','BMI', 'DiabetesPedigreeFunction', 'Age']\n",
    "\n",
    "labels = df['Outcome'].values # will be list of zeros and ones\n",
    "features = df[list(columns)].values"
   ]
  },
  {
   "cell_type": "code",
   "execution_count": 8,
   "metadata": {},
   "outputs": [
    {
     "data": {
      "text/plain": [
       "array([[  6.   , 148.   ,  72.   , ...,  33.6  ,   0.627,  50.   ],\n",
       "       [  1.   ,  85.   ,  66.   , ...,  26.6  ,   0.351,  31.   ],\n",
       "       [  8.   , 183.   ,  64.   , ...,  23.3  ,   0.672,  32.   ],\n",
       "       ...,\n",
       "       [  5.   , 121.   ,  72.   , ...,  26.2  ,   0.245,  30.   ],\n",
       "       [  1.   , 126.   ,  60.   , ...,  30.1  ,   0.349,  47.   ],\n",
       "       [  1.   ,  93.   ,  70.   , ...,  30.4  ,   0.315,  23.   ]])"
      ]
     },
     "execution_count": 8,
     "metadata": {},
     "output_type": "execute_result"
    }
   ],
   "source": [
    "features"
   ]
  },
  {
   "cell_type": "code",
   "execution_count": 6,
   "metadata": {
    "scrolled": true
   },
   "outputs": [
    {
     "data": {
      "text/plain": [
       "RandomForestClassifier(bootstrap=True, ccp_alpha=0.0, class_weight=None,\n",
       "                       criterion='gini', max_depth=None, max_features='auto',\n",
       "                       max_leaf_nodes=None, max_samples=None,\n",
       "                       min_impurity_decrease=0.0, min_impurity_split=None,\n",
       "                       min_samples_leaf=1, min_samples_split=2,\n",
       "                       min_weight_fraction_leaf=0.0, n_estimators=1,\n",
       "                       n_jobs=None, oob_score=False, random_state=None,\n",
       "                       verbose=0, warm_start=False)"
      ]
     },
     "execution_count": 6,
     "metadata": {},
     "output_type": "execute_result"
    }
   ],
   "source": [
    "from sklearn.ensemble import RandomForestClassifier\n",
    "from sklearn.model_selection import train_test_split\n",
    "# split the data to training ad testing data\n",
    "x_train, x_test, y_train, y_test = train_test_split(features, labels,\n",
    "                                                    test_size=0.30)\n",
    "# use the RandomForestClassifier\n",
    "clf = RandomForestClassifier(n_estimators=1)\n",
    "\n",
    "clf.fit(x_train, y_train)"
   ]
  },
  {
   "cell_type": "code",
   "execution_count": 10,
   "metadata": {},
   "outputs": [
    {
     "name": "stdout",
     "output_type": "stream",
     "text": [
      "The accuracy of this model is 87.15%\n"
     ]
    }
   ],
   "source": [
    "# show the accuracy of model for training data\n",
    "accuracy = clf.score(x_train, y_train)\n",
    "v = format(accuracy * 100, '.2f')\n",
    "print('The accuracy of this model is {}%'.format(v))"
   ]
  },
  {
   "cell_type": "code",
   "execution_count": 11,
   "metadata": {},
   "outputs": [
    {
     "name": "stdout",
     "output_type": "stream",
     "text": [
      "The accuracy of this model is 67.53%\n"
     ]
    }
   ],
   "source": [
    "# show the accuracy of model for testing data\n",
    "accuracy = clf.score(x_test, y_test)\n",
    "v = format(accuracy * 100, '.2f')\n",
    "print('The accuracy of this model is {}%'.format(v))"
   ]
  },
  {
   "cell_type": "code",
   "execution_count": 12,
   "metadata": {},
   "outputs": [
    {
     "name": "stdout",
     "output_type": "stream",
     "text": [
      "Training classification_report\n",
      "               precision    recall  f1-score   support\n",
      "\n",
      "           0       0.89      0.92      0.90       357\n",
      "           1       0.82      0.78      0.80       180\n",
      "\n",
      "    accuracy                           0.87       537\n",
      "   macro avg       0.86      0.85      0.85       537\n",
      "weighted avg       0.87      0.87      0.87       537\n",
      "\n"
     ]
    }
   ],
   "source": [
    "# print classification report for model performace\n",
    "from sklearn.metrics import classification_report\n",
    "\n",
    "ypredict = clf.predict(x_train)\n",
    "print('Training classification_report\\n',\n",
    "      classification_report(y_train, ypredict))"
   ]
  },
  {
   "cell_type": "code",
   "execution_count": 13,
   "metadata": {},
   "outputs": [
    {
     "name": "stdout",
     "output_type": "stream",
     "text": [
      "confusion_matrix of training\n",
      " [[327  30]\n",
      " [ 39 141]]\n"
     ]
    }
   ],
   "source": [
    "# print confusion matrix for model performace\n",
    "\n",
    "from sklearn.metrics import confusion_matrix\n",
    "\n",
    "print('confusion_matrix of training\\n', confusion_matrix(y_train, ypredict))\n",
    "\n",
    "# [true positive, false negative]\n",
    "# [false positive, true negative]"
   ]
  },
  {
   "cell_type": "code",
   "execution_count": 14,
   "metadata": {},
   "outputs": [
    {
     "name": "stdout",
     "output_type": "stream",
     "text": [
      "Testing classification_report\n",
      "               precision    recall  f1-score   support\n",
      "\n",
      "           0       0.71      0.80      0.75       143\n",
      "           1       0.59      0.48      0.53        88\n",
      "\n",
      "    accuracy                           0.68       231\n",
      "   macro avg       0.65      0.64      0.64       231\n",
      "weighted avg       0.67      0.68      0.67       231\n",
      "\n",
      "confusion_matrix of testing\n",
      " [[114  29]\n",
      " [ 46  42]]\n"
     ]
    }
   ],
   "source": [
    "# confusion_matrix for testing data\n",
    "ypredict = clf.predict(x_test)\n",
    "print('Testing classification_report\\n',\n",
    "      classification_report(y_test, ypredict))\n",
    "\n",
    "print('confusion_matrix of testing\\n', confusion_matrix(y_test, ypredict))\n"
   ]
  },
  {
   "cell_type": "markdown",
   "metadata": {},
   "source": [
    "## Improve model performance"
   ]
  },
  {
   "cell_type": "code",
   "execution_count": 21,
   "metadata": {},
   "outputs": [],
   "source": [
    "# trying to use StandardScaler to improve the model prediction accuracy \n",
    "from sklearn.preprocessing import StandardScaler\n",
    "scaler = StandardScaler()\n",
    "scaler.fit(x_train)\n",
    "x_train = scaler.transform(x_train)\n",
    "x_test = scaler.transform(x_test)"
   ]
  },
  {
   "cell_type": "code",
   "execution_count": 22,
   "metadata": {},
   "outputs": [
    {
     "name": "stdout",
     "output_type": "stream",
     "text": [
      " اداء النموذج في عينة التدريب بدقة  88.45437616387338\n",
      " اداء النموذج في عينة الفحص بدقة  71.42857142857143\n",
      "\n",
      " Training classification report\n",
      "               precision    recall  f1-score   support\n",
      "\n",
      "           0       0.92      0.89      0.91       344\n",
      "           1       0.82      0.87      0.84       193\n",
      "\n",
      "    accuracy                           0.88       537\n",
      "   macro avg       0.87      0.88      0.88       537\n",
      "weighted avg       0.89      0.88      0.89       537\n",
      "\n",
      "\n",
      " Confusion matrix of training \n",
      " [[307  37]\n",
      " [ 25 168]]\n",
      "\n",
      " Testing classification report\n",
      "               precision    recall  f1-score   support\n",
      "\n",
      "           0       0.82      0.74      0.78       156\n",
      "           1       0.55      0.67      0.60        75\n",
      "\n",
      "    accuracy                           0.71       231\n",
      "   macro avg       0.69      0.70      0.69       231\n",
      "weighted avg       0.73      0.71      0.72       231\n",
      "\n",
      "\n",
      " Confusion matrix of Testing \n",
      " [[115  41]\n",
      " [ 25  50]]\n"
     ]
    }
   ],
   "source": [
    "clf = RandomForestClassifier(n_estimators=1)\n",
    "clf = clf.fit(x_train, y_train)\n",
    "\n",
    "accuracy = clf.score(x_train, y_train)\n",
    "print(' اداء النموذج في عينة التدريب بدقة ', accuracy*100)\n",
    "\n",
    "accuracy = clf.score(x_test, y_test)\n",
    "print(' اداء النموذج في عينة الفحص بدقة ', accuracy*100)\n",
    "\n",
    "ypredict = clf.predict(x_train)\n",
    "print('\\n Training classification report\\n',\n",
    "      classification_report(y_train, ypredict))\n",
    "print(\"\\n Confusion matrix of training \\n\",\n",
    "      confusion_matrix(y_train, ypredict))\n",
    "\n",
    "ypredict = clf.predict(x_test)\n",
    "print('\\n Testing classification report\\n',\n",
    "      classification_report(y_test, ypredict))\n",
    "print(\"\\n Confusion matrix of Testing \\n\",\n",
    "      confusion_matrix(y_test, ypredict))"
   ]
  }
 ],
 "metadata": {
  "kernelspec": {
   "display_name": "Python 3",
   "language": "python",
   "name": "python3"
  },
  "language_info": {
   "codemirror_mode": {
    "name": "ipython",
    "version": 3
   },
   "file_extension": ".py",
   "mimetype": "text/x-python",
   "name": "python",
   "nbconvert_exporter": "python",
   "pygments_lexer": "ipython3",
   "version": "3.8.5"
  }
 },
 "nbformat": 4,
 "nbformat_minor": 2
}
