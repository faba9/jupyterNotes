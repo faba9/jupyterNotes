{
 "cells": [
  {
   "cell_type": "code",
   "execution_count": 1,
   "metadata": {},
   "outputs": [],
   "source": [
    "from selenium import webdriver\n",
    "from webdriver_manager.chrome import ChromeDriverManager\n",
    "from time import sleep\n",
    "import random"
   ]
  },
  {
   "cell_type": "code",
   "execution_count": 2,
   "metadata": {},
   "outputs": [
    {
     "name": "stderr",
     "output_type": "stream",
     "text": [
      "[WDM] - Current google-chrome version is 86.0.4240\n",
      "[WDM] - Get LATEST driver version for 86.0.4240\n"
     ]
    },
    {
     "name": "stdout",
     "output_type": "stream",
     "text": [
      " \n"
     ]
    },
    {
     "name": "stderr",
     "output_type": "stream",
     "text": [
      "[WDM] - Get LATEST driver version for 86.0.4240\n",
      "[WDM] - Trying to download new driver from http://chromedriver.storage.googleapis.com/86.0.4240.22/chromedriver_win32.zip\n",
      "[WDM] - Driver has been saved in cache [C:\\Users\\Bahilwah\\.wdm\\drivers\\chromedriver\\win32\\86.0.4240.22]\n"
     ]
    }
   ],
   "source": [
    "driver = webdriver.Chrome(ChromeDriverManager().install())\n",
    "# test it only for this form\n",
    "driver.get('https://forms.gle/7ihkU9cHDVGkKY2q7')"
   ]
  },
  {
   "cell_type": "code",
   "execution_count": 4,
   "metadata": {},
   "outputs": [],
   "source": [
    "def answers(number_of_answer):\n",
    "    q1 = [1, 1, 1, 1, 1, 1, 1, 1, 1, 1, 1] # 0, 1\n",
    "    q2 = [2, 2,2,2,2,2,2,2,2] #2,3,4\n",
    "    q3 = [5, 6, 7, 5, 5, 5, 5, 5, 5, 5]#5,6,7\n",
    "    q4 = [8, 9, 8, 9, 8, 9, 8, 9, 8, 9, 8, 9,8,8,8,8] #8,9,10\n",
    "    q5 = [12, 12, 12, 11, 12, 12, 12, 12, 12, 12, 12]#11,12\n",
    "    q6 = [13, 13, 13, 14, 13, 13]#13,14,15\n",
    "    q7 = [16, 17, 18,  17, 18,  17, 18,  17, 18]#16,17,18\n",
    "    q8 = [19, 19, 19, 20, 19, 19] #19-20-21\n",
    "    q9 = [22, 22, 22, 22] # 22- 23-24\n",
    "    q10 = [25, 25, 25] # 25-26-27\n",
    "    q11 = [0, 1, 2, 0, 1, 0, 1, 0]#0,1,2\n",
    "    q12 = [3, 4, 5, 4, 3]#3,4,5\n",
    "    \n",
    "    for i in range(0, number_of_answer):\n",
    "        \n",
    "        radiobuttons = driver.find_elements_by_class_name(\"docssharedWizToggleLabeledLabelWrapper\")\n",
    "        \n",
    "        choice1 = random.choice(q1)\n",
    "        radiobuttons[choice1].click()\n",
    "        \n",
    "        choice2 = random.choice(q2)\n",
    "        radiobuttons[choice2].click()\n",
    "        \n",
    "        choice3 = random.choice(q3)\n",
    "        radiobuttons[choice3].click()\n",
    "        \n",
    "        choice4 = random.choice(q4)\n",
    "        radiobuttons[choice4].click()\n",
    "        \n",
    "        choice5 = random.choice(q5)\n",
    "        radiobuttons[choice5].click()\n",
    "        \n",
    "        choice6 = random.choice(q6)\n",
    "        radiobuttons[choice6].click()\n",
    "        \n",
    "        choice7 = random.choice(q7)        \n",
    "        radiobuttons[choice7].click()\n",
    "        \n",
    "        choice8 = random.choice(q8)\n",
    "        radiobuttons[choice8].click()\n",
    "        \n",
    "        choice9 = random.choice(q9)\n",
    "        radiobuttons[choice9].click()\n",
    "        \n",
    "        choice10 = random.choice(q10)\n",
    "        radiobuttons[choice10].click()\n",
    "        sleep(1)\n",
    "        checkboxes = driver.find_elements_by_class_name(\"quantumWizTogglePapercheckboxInnerBox\")\n",
    "\n",
    "        choice11 = random.choice(q11)\n",
    "        checkboxes[choice11].click()\n",
    "        \n",
    "        choice12 = random.choice(q12)\n",
    "        checkboxes[choice12].click()\n",
    "        \n",
    "        submitbutton = driver.find_element_by_class_name(\"freebirdFormviewerViewNavigationSubmitButton\")\n",
    "        submitbutton.click()\n",
    "        \n",
    "        anther_sub = driver.find_element_by_xpath(\"//div[@class='freebirdFormviewerViewResponseLinksContainer']//a\").click()\n",
    "        \n",
    "        print(f'Submition number {i} has send successfully!')\n"
   ]
  },
  {
   "cell_type": "code",
   "execution_count": 108,
   "metadata": {},
   "outputs": [
    {
     "name": "stdout",
     "output_type": "stream",
     "text": [
      "Submition number 0 has send succsessfully!\n",
      "Submition number 1 has send succsessfully!\n",
      "Submition number 2 has send succsessfully!\n",
      "Submition number 3 has send succsessfully!\n",
      "Submition number 4 has send succsessfully!\n",
      "Submition number 5 has send succsessfully!\n",
      "Submition number 6 has send succsessfully!\n",
      "Submition number 7 has send succsessfully!\n",
      "Submition number 8 has send succsessfully!\n",
      "Submition number 9 has send succsessfully!\n",
      "Submition number 10 has send succsessfully!\n",
      "Submition number 11 has send succsessfully!\n",
      "Submition number 12 has send succsessfully!\n",
      "Submition number 13 has send succsessfully!\n",
      "Submition number 14 has send succsessfully!\n",
      "Submition number 15 has send succsessfully!\n",
      "Submition number 16 has send succsessfully!\n",
      "Submition number 17 has send succsessfully!\n",
      "Submition number 18 has send succsessfully!\n",
      "Submition number 19 has send succsessfully!\n"
     ]
    }
   ],
   "source": [
    "answers(20)"
   ]
  }
 ],
 "metadata": {
  "kernelspec": {
   "display_name": "Python 3",
   "language": "python",
   "name": "python3"
  },
  "language_info": {
   "codemirror_mode": {
    "name": "ipython",
    "version": 3
   },
   "file_extension": ".py",
   "mimetype": "text/x-python",
   "name": "python",
   "nbconvert_exporter": "python",
   "pygments_lexer": "ipython3",
   "version": "3.8.5"
  }
 },
 "nbformat": 4,
 "nbformat_minor": 4
}
